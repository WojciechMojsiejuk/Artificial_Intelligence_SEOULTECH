{
  "nbformat": 4,
  "nbformat_minor": 0,
  "metadata": {
    "colab": {
      "provenance": [],
      "collapsed_sections": [],
      "include_colab_link": true
    },
    "kernelspec": {
      "name": "python3",
      "display_name": "Python 3"
    },
    "accelerator": "GPU"
  },
  "cells": [
    {
      "cell_type": "markdown",
      "metadata": {
        "id": "view-in-github",
        "colab_type": "text"
      },
      "source": [
        "<a href=\"https://colab.research.google.com/github/WojciechMojsiejuk/Artificial_Intelligence_SEOULTECH/blob/main/assignment1.ipynb\" target=\"_parent\"><img src=\"https://colab.research.google.com/assets/colab-badge.svg\" alt=\"Open In Colab\"/></a>"
      ]
    },
    {
      "cell_type": "markdown",
      "metadata": {
        "id": "W-ORnGHCPhM1"
      },
      "source": [
        "## Assignment #1"
      ]
    },
    {
      "cell_type": "markdown",
      "metadata": {
        "id": "VbQVdrrapfG_"
      },
      "source": [
        "* Release date: 2022.09.27 Tue\n",
        "* Due date: **2022.10.04 Tue 23:59** (will not accept late submission)\n",
        "* Submission format: notebook file which can be executed in Colab environment\n",
        "* Weighting: 5% (total 50 pts)"
      ]
    },
    {
      "cell_type": "markdown",
      "metadata": {
        "id": "QeVtMwumpcUu"
      },
      "source": [
        "1. **(10pts)** Calculate `rotation*x` and `x*rotation`. Explain how each computation is performed and why two results are the same.\n",
        "\n",
        "  ```python\n",
        "    import numpy as np\n",
        "\n",
        "    x = np.array([[2, 0]])\n",
        "    rotation = np.array([ [0, -1],\n",
        "                          [1,  0] ])\n",
        "  ```"
      ]
    },
    {
      "cell_type": "code",
      "source": [
        "    import numpy as np\n",
        "\n",
        "    x = np.array([[2, 0]])\n",
        "    rotation = np.array([ [0, -1],\n",
        "                          [1,  0] ])"
      ],
      "metadata": {
        "id": "GX7gyyjbarUG"
      },
      "execution_count": null,
      "outputs": []
    },
    {
      "cell_type": "markdown",
      "source": [
        "Let's check what are the result of `x*rotation` and `rotation*x`"
      ],
      "metadata": {
        "id": "eoePqEV_etP4"
      }
    },
    {
      "cell_type": "code",
      "source": [
        "x*rotation"
      ],
      "metadata": {
        "colab": {
          "base_uri": "https://localhost:8080/"
        },
        "id": "cmlxFg43auUo",
        "outputId": "4a780c01-c5f1-4551-c6a0-753ffa1308fd"
      },
      "execution_count": null,
      "outputs": [
        {
          "output_type": "execute_result",
          "data": {
            "text/plain": [
              "array([[0, 0],\n",
              "       [2, 0]])"
            ]
          },
          "metadata": {},
          "execution_count": 2
        }
      ]
    },
    {
      "cell_type": "code",
      "source": [
        "rotation*x"
      ],
      "metadata": {
        "colab": {
          "base_uri": "https://localhost:8080/"
        },
        "id": "8sek1067ayvf",
        "outputId": "ed04559f-0b5b-4b45-eada-72f277ab9a9a"
      },
      "execution_count": null,
      "outputs": [
        {
          "output_type": "execute_result",
          "data": {
            "text/plain": [
              "array([[0, 0],\n",
              "       [2, 0]])"
            ]
          },
          "metadata": {},
          "execution_count": 3
        }
      ]
    },
    {
      "cell_type": "markdown",
      "source": [
        "Let's check dimmensionality of our tensors"
      ],
      "metadata": {
        "id": "H-y3ZL7Ie9wj"
      }
    },
    {
      "cell_type": "code",
      "source": [
        "x.shape"
      ],
      "metadata": {
        "colab": {
          "base_uri": "https://localhost:8080/"
        },
        "id": "g7twzF9hcWJ-",
        "outputId": "4eca9ef3-7637-493d-de96-dc6731178ff9"
      },
      "execution_count": null,
      "outputs": [
        {
          "output_type": "execute_result",
          "data": {
            "text/plain": [
              "(1, 2)"
            ]
          },
          "metadata": {},
          "execution_count": 4
        }
      ]
    },
    {
      "cell_type": "code",
      "source": [
        "rotation.shape"
      ],
      "metadata": {
        "colab": {
          "base_uri": "https://localhost:8080/"
        },
        "id": "PEiCDP28cYZy",
        "outputId": "33cc4a91-08b5-44ca-903a-b0c04c7a21d0"
      },
      "execution_count": null,
      "outputs": [
        {
          "output_type": "execute_result",
          "data": {
            "text/plain": [
              "(2, 2)"
            ]
          },
          "metadata": {},
          "execution_count": 5
        }
      ]
    },
    {
      "cell_type": "markdown",
      "source": [
        "## Answer:\n",
        "\n",
        "Because of the broadcasting it is possible for us to compute the values in both conditions.\n",
        "\n",
        "## Proof:\n",
        "\n",
        "From the documentation of [numpy.multiply](https://numpy.org/doc/stable/reference/generated/numpy.multiply.html)\n",
        "```python\n",
        "numpy.multiply(x1, x2, /, out=None, *, where=True, casting='same_kind', order='K', dtype=None, subok=True[, signature, extobj]) = <ufunc 'multiply'>\n",
        "```\n",
        "Multiply arguments element-wise.\n",
        "\n",
        "Parameters\n",
        "x1, x2array_like\n",
        "Input arrays to be multiplied. If x1.shape != x2.shape, they must be **broadcastable** to a common shape (which becomes the shape of the output).\n",
        "\n",
        "## General Broadcasting Rules\n",
        "\n",
        "When operating on two arrays, NumPy compares their shapes element-wise. It starts with the trailing (i.e. rightmost) dimensions and works its way left. Two dimensions are compatible when\n",
        "\n",
        "- they are equal, or\n",
        "\n",
        "- one of them is 1\n",
        "\n",
        "[Source](https://numpy.org/doc/stable/user/basics.broadcasting.html)\n",
        "\n",
        "As we can see in our situation `x.shape` is `(1, 2)` which means it follows a second rule and therefore can be broadcasted (stretched) to match `rotation` dimensionality."
      ],
      "metadata": {
        "id": "BQoIqQxcbQSI"
      }
    },
    {
      "cell_type": "code",
      "source": [
        "x_broadcasted = np.array([[2, 0],[2, 0]]) #we repeat the values of x to match the dimensionality of rotated matrix"
      ],
      "metadata": {
        "id": "FWG_2jr7fg5p"
      },
      "execution_count": null,
      "outputs": []
    },
    {
      "cell_type": "code",
      "source": [
        "x_broadcasted.shape == rotation.shape # let's check if our broadcasted matrix is compatible with rotation matrix"
      ],
      "metadata": {
        "colab": {
          "base_uri": "https://localhost:8080/"
        },
        "id": "vupbcqWXfspy",
        "outputId": "e469591c-024b-4738-942e-8622b508565b"
      },
      "execution_count": null,
      "outputs": [
        {
          "output_type": "execute_result",
          "data": {
            "text/plain": [
              "True"
            ]
          },
          "metadata": {},
          "execution_count": 7
        }
      ]
    },
    {
      "cell_type": "markdown",
      "source": [
        "Let us compute the values manually\n",
        "\n",
        "\\begin{equation}\n",
        "x^{\\text{broadcasted}} =\n",
        "\\begin{bmatrix}\n",
        "2 & 0\\\\\n",
        "2 & 0\n",
        "\\end{bmatrix}\n",
        "\\end{equation}\n",
        "\n",
        "\\begin{equation}\n",
        "\\text{rotation} =\n",
        "\\begin{bmatrix}\n",
        "0 & -1\\\\\n",
        "1 & 0\n",
        "\\end{bmatrix}\n",
        "\\end{equation}\n",
        "\n",
        "\n",
        "\n"
      ],
      "metadata": {
        "id": "jdopTxf_gJzQ"
      }
    },
    {
      "cell_type": "markdown",
      "source": [
        "\\begin{equation}\n",
        "x^{\\text{broadcasted}}\\cdot\\text{rotation} =\n",
        "\\begin{bmatrix}\n",
        "2 & 0\\\\\n",
        "2 & 0\n",
        "\\end{bmatrix}\\cdot\n",
        "\\begin{bmatrix}\n",
        "0 & -1\\\\\n",
        "1 & 0\n",
        "\\end{bmatrix}\n",
        "\\end{equation}\n",
        "=\n",
        "\\begin{bmatrix}\n",
        "2\\cdot0 & 0\\cdot -1\\\\\n",
        "2\\cdot1 & 0\\cdot 0\n",
        "\\end{bmatrix}\n",
        "⇒\n",
        "\\begin{bmatrix}\n",
        "0 & 0\\\\\n",
        "2 & 0\n",
        "\\end{bmatrix}"
      ],
      "metadata": {
        "id": "nvUtS_9EhyuB"
      }
    },
    {
      "cell_type": "code",
      "source": [
        "x_broadcasted*rotation"
      ],
      "metadata": {
        "colab": {
          "base_uri": "https://localhost:8080/"
        },
        "id": "LFm_IsGCgCMe",
        "outputId": "024760f8-dee6-4082-f17a-0aee6be464ef"
      },
      "execution_count": null,
      "outputs": [
        {
          "output_type": "execute_result",
          "data": {
            "text/plain": [
              "array([[0, 0],\n",
              "       [2, 0]])"
            ]
          },
          "metadata": {},
          "execution_count": 8
        }
      ]
    },
    {
      "cell_type": "markdown",
      "source": [
        "From Commutative Property of Multiplication we know that for an element-wise multiplication $a\\cdot b = b\\cdot a$, but nonetheless let's check other computation\n",
        "\n",
        "\\begin{equation}\n",
        "\\text{rotation} \\cdot x^{\\text{broadcasted}}=\n",
        "\\begin{bmatrix}\n",
        "0 & -1\\\\\n",
        "1 & 0\n",
        "\\end{bmatrix}\n",
        "\\cdot\n",
        "\\begin{bmatrix}\n",
        "2 & 0\\\\\n",
        "2 & 0\n",
        "\\end{bmatrix}\n",
        "\\end{equation}\n",
        "=\n",
        "\\begin{bmatrix}\n",
        "0\\cdot2 & -1\\cdot 0\\\\\n",
        "1\\cdot2 & 0\\cdot 0\n",
        "\\end{bmatrix}\n",
        "⇒\n",
        "\\begin{bmatrix}\n",
        "0 & 0\\\\\n",
        "2 & 0\n",
        "\\end{bmatrix}"
      ],
      "metadata": {
        "id": "SlAqOvbEiIU3"
      }
    },
    {
      "cell_type": "code",
      "source": [
        "rotation*x_broadcasted"
      ],
      "metadata": {
        "colab": {
          "base_uri": "https://localhost:8080/"
        },
        "id": "76xG6yXogFdK",
        "outputId": "bb3ae215-574b-4ced-e06e-518bf3ee8a71"
      },
      "execution_count": null,
      "outputs": [
        {
          "output_type": "execute_result",
          "data": {
            "text/plain": [
              "array([[0, 0],\n",
              "       [2, 0]])"
            ]
          },
          "metadata": {},
          "execution_count": 9
        }
      ]
    },
    {
      "cell_type": "markdown",
      "metadata": {
        "id": "ARQKCA9sCpN-"
      },
      "source": [
        "2. **(5pts)** Suppose we have the following 2D tensor (i.e., a matrix). How to rearrange its values into 1D tensor (i.e., a vector) in a column major order?\n",
        "```python\n",
        "x = np.array([[1,  2,  3,  4],\n",
        "                 [5,  6,  7,  8],\n",
        "                 [9, 10, 11, 12]])\n",
        "```"
      ]
    },
    {
      "cell_type": "markdown",
      "source": [
        "To flatten tensor to vector we can use [np.ravel](https://numpy.org/devdocs/reference/generated/numpy.ravel.html) method. To obtain a column major order we might specify a `order`parameter of a function and set it to `F` where `F` means to index the elements in column-major, Fortran-style order."
      ],
      "metadata": {
        "id": "_AQntLrBnjPq"
      }
    },
    {
      "cell_type": "code",
      "source": [
        "from pprint import pprint\n",
        "\n",
        "x = np.array([[1,  2,  3,  4],\n",
        "              [5,  6,  7,  8],\n",
        "              [9, 10, 11, 12]])\n",
        "\n",
        "x_vector_cmo = np.ravel(x, order='F') \n",
        "\n",
        "pprint(x_vector_cmo)"
      ],
      "metadata": {
        "colab": {
          "base_uri": "https://localhost:8080/"
        },
        "id": "y0W4b3gJaXjE",
        "outputId": "bddb5ab8-c9a9-4b4b-d2f3-f7c6c4e102b2"
      },
      "execution_count": null,
      "outputs": [
        {
          "output_type": "stream",
          "name": "stdout",
          "text": [
            "array([ 1,  5,  9,  2,  6, 10,  3,  7, 11,  4,  8, 12])\n"
          ]
        }
      ]
    },
    {
      "cell_type": "markdown",
      "metadata": {
        "id": "D0cUrs6OFJVn"
      },
      "source": [
        "3. **(5pts)** Compute a transpose of the matrix `x` in Problem 2 by using only `np.reshape` function."
      ]
    },
    {
      "cell_type": "code",
      "source": [
        "x.shape"
      ],
      "metadata": {
        "colab": {
          "base_uri": "https://localhost:8080/"
        },
        "id": "PQuD49RIoDId",
        "outputId": "702176cc-41d5-47e2-8700-b8fb25290ce9"
      },
      "execution_count": null,
      "outputs": [
        {
          "output_type": "execute_result",
          "data": {
            "text/plain": [
              "(3, 4)"
            ]
          },
          "metadata": {},
          "execution_count": 4
        }
      ]
    },
    {
      "cell_type": "markdown",
      "source": [
        "For this task we could use our previously computed 1D vector and reshape it to swap axes $(3,4)⇒(4,3)$ "
      ],
      "metadata": {
        "id": "2mQU_fjwqvJ1"
      }
    },
    {
      "cell_type": "code",
      "source": [
        "x_t = np.reshape(x_vector_cmo,(4,3))"
      ],
      "metadata": {
        "id": "927pd3VVq8dT"
      },
      "execution_count": null,
      "outputs": []
    },
    {
      "cell_type": "markdown",
      "source": [
        "or write np.ravel function as np.reshape where we specify the size of our matrix as (1, number of elements)\n"
      ],
      "metadata": {
        "id": "B666NH_5qq7w"
      }
    },
    {
      "cell_type": "code",
      "source": [
        "x_t2 = np.reshape(np.reshape(x,(1,12),order='F'),(4,3))"
      ],
      "metadata": {
        "id": "UO6w32Ltom8O"
      },
      "execution_count": null,
      "outputs": []
    },
    {
      "cell_type": "markdown",
      "source": [
        "As we can see both approaches give us the same result, which also matches the built-in functions for transposing matrix"
      ],
      "metadata": {
        "id": "5QoexDFirMMg"
      }
    },
    {
      "cell_type": "code",
      "source": [
        "pprint(x_t)\n",
        "pprint(x_t2)\n",
        "print(x_t.shape)\n",
        "pprint(x.T) # built-in function for transposing \n",
        "pprint(np.transpose(x)) # built-in function for transposing"
      ],
      "metadata": {
        "colab": {
          "base_uri": "https://localhost:8080/"
        },
        "id": "I6qj0e3crTGV",
        "outputId": "9b58e379-423b-4555-bc77-ba19f980a506"
      },
      "execution_count": null,
      "outputs": [
        {
          "output_type": "stream",
          "name": "stdout",
          "text": [
            "array([[ 1,  5,  9],\n",
            "       [ 2,  6, 10],\n",
            "       [ 3,  7, 11],\n",
            "       [ 4,  8, 12]])\n",
            "array([[ 1,  5,  9],\n",
            "       [ 2,  6, 10],\n",
            "       [ 3,  7, 11],\n",
            "       [ 4,  8, 12]])\n",
            "(4, 3)\n",
            "array([[ 1,  5,  9],\n",
            "       [ 2,  6, 10],\n",
            "       [ 3,  7, 11],\n",
            "       [ 4,  8, 12]])\n",
            "array([[ 1,  5,  9],\n",
            "       [ 2,  6, 10],\n",
            "       [ 3,  7, 11],\n",
            "       [ 4,  8, 12]])\n"
          ]
        }
      ]
    },
    {
      "cell_type": "markdown",
      "metadata": {
        "id": "lVzaCbniHnF6"
      },
      "source": [
        "4. **(5pts)** Perform vector arithmetic to create a `primes_squared_minus_one` vector, where the `i`th element is equal to the `i`th element in `primes` squared minus 1. For example, the second element of `primes_squared_minus_one` would be equal to `3^2 - 1 = 8`. Note that using `for` loop is not allowed.\n",
        "```python\n",
        "import numpy as np\n",
        "primes = np.array([2, 3, 5, 7, 11, 13])\n",
        "primes_squared_minus_one = ?\n",
        "```"
      ]
    },
    {
      "cell_type": "code",
      "source": [
        "primes = np.array([2, 3, 5, 7, 11, 13])\n",
        "primes_squared_minus_one = primes**2-1\n",
        "pprint(primes_squared_minus_one)"
      ],
      "metadata": {
        "colab": {
          "base_uri": "https://localhost:8080/"
        },
        "id": "Auc6NMBxrjLM",
        "outputId": "991b466c-10b6-4821-d0bd-c1be3f4c8e4f"
      },
      "execution_count": null,
      "outputs": [
        {
          "output_type": "stream",
          "name": "stdout",
          "text": [
            "array([  3,   8,  24,  48, 120, 168])\n"
          ]
        }
      ]
    },
    {
      "cell_type": "markdown",
      "metadata": {
        "id": "LGIhrK8hVgjh"
      },
      "source": [
        "5. **(10pts)** Given any random matrices, compute the element-wise multiplication using a naive Python implementation and Numpy built-in function respectively. Compare the wall-clock times of these implementations as the size of matrices increases.\n",
        "\n"
      ]
    },
    {
      "cell_type": "code",
      "source": [
        "def naive_mul(x, y):\n",
        "  '''\n",
        "  naive_mul(x,y) \n",
        "  Returns the element-wise multiplication of two tensors of at most 2D.\n",
        "\n",
        "            Parameters:\n",
        "                    x (np.ndarray): first tensor of at most two dimensions\n",
        "                    y (np.ndarray): second tensor of at most two dimensions decimal integer\n",
        "\n",
        "            Returns:\n",
        "                    xy_mul (np.ndarray): element-wise multiplication of x and y\n",
        "  '''\n",
        "  try: \n",
        "    assert x.shape == y.shape\n",
        "  except AssertionError:\n",
        "      if len(x.shape) == 1:\n",
        "        if x.shape[0] == 1: \n",
        "          x=np.ones_like(y)*x\n",
        "        elif x.shape[0] == y.shape[1]:\n",
        "          temp = x.copy()\n",
        "          x = np.ones_like(y)\n",
        "          x[:,0]=temp\n",
        "          x[:,1]=temp\n",
        "        else:\n",
        "          raise ValueError(f'could not broadcast input array from shape {x.shape} into shape {y.shape}.')\n",
        "      elif len(y.shape) == 1:\n",
        "        if y.shape[0] == 1: \n",
        "          y=np.ones_like(x)*y\n",
        "        elif y.shape[0] == x.shape[1]:\n",
        "          temp = y.copy()\n",
        "          y = np.ones_like(x)\n",
        "          y[:,0]=temp\n",
        "          y[:,1]=temp\n",
        "        else:\n",
        "          raise ValueError(f'could not broadcast input array from shape {x.shape} into shape {y.shape}.')\n",
        "      else:\n",
        "        raise ValueError(f'could not broadcast input array from shape {x.shape} into shape {y.shape}.')\n",
        "  xy_mul = x.copy()\n",
        "  for i in range(xy_mul.shape[0]):\n",
        "    for j in range(xy_mul.shape[1]):\n",
        "      xy_mul[i, j] *= y[i, j]\n",
        "  return xy_mul"
      ],
      "metadata": {
        "id": "Wwad7yeTsIB6"
      },
      "execution_count": null,
      "outputs": []
    },
    {
      "cell_type": "markdown",
      "source": [
        "Testing solution for matrix * vector situations (not mandatory for this assignment, I just wanted to practise broadcasting)."
      ],
      "metadata": {
        "id": "pnqECUyM7Hbe"
      }
    },
    {
      "cell_type": "code",
      "source": [
        "x=np.random.rand(2,2)\n",
        "y=np.random.rand(2)\n",
        "\n",
        "pprint(x)\n",
        "pprint(y)\n",
        "pprint(naive_mul(x,y))"
      ],
      "metadata": {
        "colab": {
          "base_uri": "https://localhost:8080/"
        },
        "id": "wkvOhMSfscGg",
        "outputId": "0253847d-c692-4819-f819-2eda1bdaed26"
      },
      "execution_count": null,
      "outputs": [
        {
          "output_type": "stream",
          "name": "stdout",
          "text": [
            "array([[0.46490964, 0.22660092],\n",
            "       [0.45417363, 0.58932149]])\n",
            "array([0.93277473, 0.50754188])\n",
            "array([[0.43365596, 0.21136761],\n",
            "       [0.23051214, 0.29910534]])\n"
          ]
        }
      ]
    },
    {
      "cell_type": "code",
      "source": [
        "import time\n",
        "import matplotlib.pyplot as plt\n",
        "\n",
        "SIZE = [10**x for x in range(0, 4)]\n",
        "naive_time = []\n",
        "numpy_time = []\n",
        "\n",
        "for idx, size in enumerate(SIZE):\n",
        "  temp_naive_time = 0\n",
        "  temp_numpy_time = 0\n",
        "  for i in range(10): # Let's repeat the process few times and compute the mean to neglect the latency\n",
        "    x=np.random.rand(size, size)\n",
        "    y=np.random.rand(size, size)\n",
        "    \n",
        "    #naive implementation\n",
        "    start = time.time_ns() \n",
        "    naive_ans = naive_mul(x,y)\n",
        "    elapsed = time.time_ns()  - start\n",
        "    temp_naive_time += elapsed\n",
        "    \n",
        "    #numpy\n",
        "    start = time.time_ns() \n",
        "    numpy_ans = x*y\n",
        "    elapsed = time.time_ns()  - start\n",
        "    temp_numpy_time += elapsed\n",
        "\n",
        "    #verification\n",
        "    assert np.abs(naive_ans-numpy_ans).all() < 10**-3\n",
        "\n",
        "  naive_time.append(temp_naive_time/10)\n",
        "  numpy_time.append(temp_numpy_time/10)\n",
        "\n",
        "p_naive = np.poly1d(np.polyfit(SIZE, naive_time, 3))\n",
        "p_numpy = np.poly1d(np.polyfit(SIZE, numpy_time, 3))\n",
        "xp = np.logspace(0,3,100)\n",
        "\n",
        "plt.plot(SIZE, naive_time, 'bo', label='naive')\n",
        "plt.plot(xp,p_naive(xp), 'b:')\n",
        "plt.plot(SIZE, numpy_time, 'ro', label='numpy')\n",
        "plt.plot(xp,p_numpy(xp), 'r:')\n",
        "plt.xscale('log')\n",
        "plt.yscale('log')\n",
        "plt.xlabel('size of one axis of matrix')\n",
        "plt.ylabel('time (ns)')\n",
        "plt.legend()\n",
        "plt.title(\"Comparison of time elapsed for naive implementation and numpy element-wise multiplication\")\n",
        "plt.show()"
      ],
      "metadata": {
        "colab": {
          "base_uri": "https://localhost:8080/",
          "height": 299
        },
        "id": "OnQ2KLpz7ZwK",
        "outputId": "69abed95-6d29-4aab-d78a-58658415bca8"
      },
      "execution_count": null,
      "outputs": [
        {
          "output_type": "display_data",
          "data": {
            "text/plain": [
              "<Figure size 432x288 with 1 Axes>"
            ],
            "image/png": "[encoded data removed]"
          },
          "metadata": {
            "needs_background": "light"
          }
        }
      ]
    },
    {
      "cell_type": "markdown",
      "source": [
        "As it can be seen naive implementation is usually 10-100 time slower than an optimized solution from numpy library. It can be observed that the difference between the solution is somewhat steady no matter the size of the matrices (except for really small matrices; $n<10$)"
      ],
      "metadata": {
        "id": "lwy7CtZzYFII"
      }
    },
    {
      "cell_type": "markdown",
      "metadata": {
        "id": "cDe6_vqqSe7f"
      },
      "source": [
        "6. **(15pts)** Consider MNIST classification problem covered during the class. For the details, please refer to the course material. In this example, we used the multilayer perceptron composed of an input layer with 512 hidden nodes and an output layer that produces predicted probabilities over 10 classes. In the class, we used GPU as a hardware accelerator to train our model.\n",
        "\n",
        "  Here, let's verify the actual benefit of using GPU for training. For this, compare the wall-clock times in the case of 1) using CPU and 2) using GPU to train MNIST classifier.\n"
      ]
    },
    {
      "cell_type": "code",
      "source": [
        "!pip install --upgrade tensorflow\n",
        "import tensorflow as tf\n",
        "tf.__version__\n",
        "from tensorflow import keras\n",
        "from keras.datasets import mnist\n",
        "(train_images, train_labels), (test_images,test_labels) = mnist.load_data()"
      ],
      "metadata": {
        "colab": {
          "base_uri": "https://localhost:8080/",
          "height": 1000
        },
        "id": "Uy_xVW52ea1Y",
        "outputId": "6130a912-ee1b-4870-c2aa-74b34106498a"
      },
      "execution_count": null,
      "outputs": [
        {
          "output_type": "stream",
          "name": "stdout",
          "text": [
            "Looking in indexes: https://pypi.org/simple, https://us-python.pkg.dev/colab-wheels/public/simple/\n",
            "Requirement already satisfied: tensorflow in /usr/local/lib/python3.7/dist-packages (2.8.2+zzzcolab20220719082949)\n",
            "Collecting tensorflow\n",
            "  Downloading tensorflow-2.10.0-cp37-cp37m-manylinux_2_17_x86_64.manylinux2014_x86_64.whl (578.0 MB)\n",
            "\u001b[K     |████████████████████████████████| 578.0 MB 17 kB/s \n",
            "\u001b[?25hRequirement already satisfied: google-pasta>=0.1.1 in /usr/local/lib/python3.7/dist-packages (from tensorflow) (0.2.0)\n",
            "Requirement already satisfied: opt-einsum>=2.3.2 in /usr/local/lib/python3.7/dist-packages (from tensorflow) (3.3.0)\n",
            "Requirement already satisfied: libclang>=13.0.0 in /usr/local/lib/python3.7/dist-packages (from tensorflow) (14.0.6)\n",
            "Requirement already satisfied: typing-extensions>=3.6.6 in /usr/local/lib/python3.7/dist-packages (from tensorflow) (4.1.1)\n",
            "Requirement already satisfied: six>=1.12.0 in /usr/local/lib/python3.7/dist-packages (from tensorflow) (1.15.0)\n",
            "Collecting tensorboard<2.11,>=2.10\n",
            "  Downloading tensorboard-2.10.1-py3-none-any.whl (5.9 MB)\n",
            "\u001b[K     |████████████████████████████████| 5.9 MB 61.6 MB/s \n",
            "\u001b[?25hRequirement already satisfied: h5py>=2.9.0 in /usr/local/lib/python3.7/dist-packages (from tensorflow) (3.1.0)\n",
            "Requirement already satisfied: tensorflow-io-gcs-filesystem>=0.23.1 in /usr/local/lib/python3.7/dist-packages (from tensorflow) (0.26.0)\n",
            "Requirement already satisfied: numpy>=1.20 in /usr/local/lib/python3.7/dist-packages (from tensorflow) (1.21.6)\n",
            "Requirement already satisfied: wrapt>=1.11.0 in /usr/local/lib/python3.7/dist-packages (from tensorflow) (1.14.1)\n",
            "Requirement already satisfied: grpcio<2.0,>=1.24.3 in /usr/local/lib/python3.7/dist-packages (from tensorflow) (1.48.1)\n",
            "Requirement already satisfied: astunparse>=1.6.0 in /usr/local/lib/python3.7/dist-packages (from tensorflow) (1.6.3)\n",
            "Collecting gast<=0.4.0,>=0.2.1\n",
            "  Downloading gast-0.4.0-py3-none-any.whl (9.8 kB)\n",
            "Collecting keras<2.11,>=2.10.0\n",
            "  Downloading keras-2.10.0-py2.py3-none-any.whl (1.7 MB)\n",
            "\u001b[K     |████████████████████████████████| 1.7 MB 55.6 MB/s \n",
            "\u001b[?25hCollecting tensorflow-estimator<2.11,>=2.10.0\n",
            "  Downloading tensorflow_estimator-2.10.0-py2.py3-none-any.whl (438 kB)\n",
            "\u001b[K     |████████████████████████████████| 438 kB 69.5 MB/s \n",
            "\u001b[?25hRequirement already satisfied: absl-py>=1.0.0 in /usr/local/lib/python3.7/dist-packages (from tensorflow) (1.2.0)\n",
            "Requirement already satisfied: setuptools in /usr/local/lib/python3.7/dist-packages (from tensorflow) (57.4.0)\n",
            "Requirement already satisfied: termcolor>=1.1.0 in /usr/local/lib/python3.7/dist-packages (from tensorflow) (1.1.0)\n",
            "Requirement already satisfied: packaging in /usr/local/lib/python3.7/dist-packages (from tensorflow) (21.3)\n",
            "Requirement already satisfied: flatbuffers>=2.0 in /usr/local/lib/python3.7/dist-packages (from tensorflow) (2.0.7)\n",
            "Requirement already satisfied: keras-preprocessing>=1.1.1 in /usr/local/lib/python3.7/dist-packages (from tensorflow) (1.1.2)\n",
            "Requirement already satisfied: protobuf<3.20,>=3.9.2 in /usr/local/lib/python3.7/dist-packages (from tensorflow) (3.17.3)\n",
            "Requirement already satisfied: wheel<1.0,>=0.23.0 in /usr/local/lib/python3.7/dist-packages (from astunparse>=1.6.0->tensorflow) (0.37.1)\n",
            "Requirement already satisfied: cached-property in /usr/local/lib/python3.7/dist-packages (from h5py>=2.9.0->tensorflow) (1.5.2)\n",
            "Requirement already satisfied: tensorboard-data-server<0.7.0,>=0.6.0 in /usr/local/lib/python3.7/dist-packages (from tensorboard<2.11,>=2.10->tensorflow) (0.6.1)\n",
            "Requirement already satisfied: markdown>=2.6.8 in /usr/local/lib/python3.7/dist-packages (from tensorboard<2.11,>=2.10->tensorflow) (3.4.1)\n",
            "Requirement already satisfied: google-auth-oauthlib<0.5,>=0.4.1 in /usr/local/lib/python3.7/dist-packages (from tensorboard<2.11,>=2.10->tensorflow) (0.4.6)\n",
            "Requirement already satisfied: google-auth<3,>=1.6.3 in /usr/local/lib/python3.7/dist-packages (from tensorboard<2.11,>=2.10->tensorflow) (1.35.0)\n",
            "Requirement already satisfied: requests<3,>=2.21.0 in /usr/local/lib/python3.7/dist-packages (from tensorboard<2.11,>=2.10->tensorflow) (2.23.0)\n",
            "Requirement already satisfied: tensorboard-plugin-wit>=1.6.0 in /usr/local/lib/python3.7/dist-packages (from tensorboard<2.11,>=2.10->tensorflow) (1.8.1)\n",
            "Requirement already satisfied: werkzeug>=1.0.1 in /usr/local/lib/python3.7/dist-packages (from tensorboard<2.11,>=2.10->tensorflow) (1.0.1)\n",
            "Requirement already satisfied: rsa<5,>=3.1.4 in /usr/local/lib/python3.7/dist-packages (from google-auth<3,>=1.6.3->tensorboard<2.11,>=2.10->tensorflow) (4.9)\n",
            "Requirement already satisfied: cachetools<5.0,>=2.0.0 in /usr/local/lib/python3.7/dist-packages (from google-auth<3,>=1.6.3->tensorboard<2.11,>=2.10->tensorflow) (4.2.4)\n",
            "Requirement already satisfied: pyasn1-modules>=0.2.1 in /usr/local/lib/python3.7/dist-packages (from google-auth<3,>=1.6.3->tensorboard<2.11,>=2.10->tensorflow) (0.2.8)\n",
            "Requirement already satisfied: requests-oauthlib>=0.7.0 in /usr/local/lib/python3.7/dist-packages (from google-auth-oauthlib<0.5,>=0.4.1->tensorboard<2.11,>=2.10->tensorflow) (1.3.1)\n",
            "Requirement already satisfied: importlib-metadata>=4.4 in /usr/local/lib/python3.7/dist-packages (from markdown>=2.6.8->tensorboard<2.11,>=2.10->tensorflow) (4.12.0)\n",
            "Requirement already satisfied: zipp>=0.5 in /usr/local/lib/python3.7/dist-packages (from importlib-metadata>=4.4->markdown>=2.6.8->tensorboard<2.11,>=2.10->tensorflow) (3.8.1)\n",
            "Requirement already satisfied: pyasn1<0.5.0,>=0.4.6 in /usr/local/lib/python3.7/dist-packages (from pyasn1-modules>=0.2.1->google-auth<3,>=1.6.3->tensorboard<2.11,>=2.10->tensorflow) (0.4.8)\n",
            "Requirement already satisfied: chardet<4,>=3.0.2 in /usr/local/lib/python3.7/dist-packages (from requests<3,>=2.21.0->tensorboard<2.11,>=2.10->tensorflow) (3.0.4)\n",
            "Requirement already satisfied: urllib3!=1.25.0,!=1.25.1,<1.26,>=1.21.1 in /usr/local/lib/python3.7/dist-packages (from requests<3,>=2.21.0->tensorboard<2.11,>=2.10->tensorflow) (1.24.3)\n",
            "Requirement already satisfied: idna<3,>=2.5 in /usr/local/lib/python3.7/dist-packages (from requests<3,>=2.21.0->tensorboard<2.11,>=2.10->tensorflow) (2.10)\n",
            "Requirement already satisfied: certifi>=2017.4.17 in /usr/local/lib/python3.7/dist-packages (from requests<3,>=2.21.0->tensorboard<2.11,>=2.10->tensorflow) (2022.6.15)\n",
            "Requirement already satisfied: oauthlib>=3.0.0 in /usr/local/lib/python3.7/dist-packages (from requests-oauthlib>=0.7.0->google-auth-oauthlib<0.5,>=0.4.1->tensorboard<2.11,>=2.10->tensorflow) (3.2.0)\n",
            "Requirement already satisfied: pyparsing!=3.0.5,>=2.0.2 in /usr/local/lib/python3.7/dist-packages (from packaging->tensorflow) (3.0.9)\n",
            "Installing collected packages: tensorflow-estimator, tensorboard, keras, gast, tensorflow\n",
            "  Attempting uninstall: tensorflow-estimator\n",
            "    Found existing installation: tensorflow-estimator 2.8.0\n",
            "    Uninstalling tensorflow-estimator-2.8.0:\n",
            "      Successfully uninstalled tensorflow-estimator-2.8.0\n",
            "  Attempting uninstall: tensorboard\n",
            "    Found existing installation: tensorboard 2.8.0\n",
            "    Uninstalling tensorboard-2.8.0:\n",
            "      Successfully uninstalled tensorboard-2.8.0\n",
            "  Attempting uninstall: keras\n",
            "    Found existing installation: keras 2.8.0\n",
            "    Uninstalling keras-2.8.0:\n",
            "      Successfully uninstalled keras-2.8.0\n",
            "  Attempting uninstall: gast\n",
            "    Found existing installation: gast 0.5.3\n",
            "    Uninstalling gast-0.5.3:\n",
            "      Successfully uninstalled gast-0.5.3\n",
            "  Attempting uninstall: tensorflow\n",
            "    Found existing installation: tensorflow 2.8.2+zzzcolab20220719082949\n",
            "    Uninstalling tensorflow-2.8.2+zzzcolab20220719082949:\n",
            "      Successfully uninstalled tensorflow-2.8.2+zzzcolab20220719082949\n",
            "Successfully installed gast-0.4.0 keras-2.10.0 tensorboard-2.10.1 tensorflow-2.10.0 tensorflow-estimator-2.10.0\n"
          ]
        },
        {
          "output_type": "display_data",
          "data": {
            "application/vnd.colab-display-data+json": {
              "pip_warning": {
                "packages": [
                  "gast",
                  "keras",
                  "tensorboard",
                  "tensorflow"
                ]
              }
            }
          },
          "metadata": {}
        },
        {
          "output_type": "stream",
          "name": "stdout",
          "text": [
            "Downloading data from https://storage.googleapis.com/tensorflow/tf-keras-datasets/mnist.npz\n",
            "11493376/11490434 [==============================] - 0s 0us/step\n",
            "11501568/11490434 [==============================] - 0s 0us/step\n"
          ]
        }
      ]
    },
    {
      "cell_type": "code",
      "source": [
        "!nvidia-smi #check if we use GPU"
      ],
      "metadata": {
        "colab": {
          "base_uri": "https://localhost:8080/"
        },
        "id": "v4VKvJk5fE-K",
        "outputId": "6ab8831b-e402-4ab3-c9bd-a5e0dd2b5d3c"
      },
      "execution_count": null,
      "outputs": [
        {
          "output_type": "stream",
          "name": "stdout",
          "text": [
            "NVIDIA-SMI has failed because it couldn't communicate with the NVIDIA driver. Make sure that the latest NVIDIA driver is installed and running.\n",
            "\n"
          ]
        }
      ]
    },
    {
      "cell_type": "code",
      "source": [
        "from keras import models\n",
        "from keras import layers\n",
        "from keras.utils import to_categorical\n",
        "import time\n",
        "\n",
        "network = models.Sequential()\n",
        "network.add(layers.Dense(512, activation='relu', input_shape=(28*28,)))\n",
        "network.add(layers.Dense(10, activation='softmax'))\n",
        "network.compile(optimizer='rmsprop',\n",
        "                loss='categorical_crossentropy',\n",
        "                metrics=['accuracy'])\n",
        "train_images = train_images.reshape((60000, 28*28))\n",
        "train_images = train_images.astype('float32') / 255\n",
        "\n",
        "test_images = test_images.reshape((10000, 28*28))\n",
        "test_images = test_images.astype('float32') / 255\n",
        "\n",
        "train_labels = to_categorical(train_labels)\n",
        "test_labels = to_categorical(test_labels)\n",
        "\n",
        "start = time.time()\n",
        "network.fit(train_images, train_labels, epochs=5, batch_size=128)\n",
        "elapsed = time.time() - start\n",
        "\n",
        "print('Elapsed time (CPU): %.4f' % elapsed)"
      ],
      "metadata": {
        "colab": {
          "base_uri": "https://localhost:8080/"
        },
        "id": "XL4dgQ5ffUSC",
        "outputId": "8cb04887-8e24-44a3-b5ac-69a9f619241d"
      },
      "execution_count": null,
      "outputs": [
        {
          "output_type": "stream",
          "name": "stdout",
          "text": [
            "Epoch 1/5\n",
            "469/469 [==============================] - 6s 12ms/step - loss: 0.2571 - accuracy: 0.9277\n",
            "Epoch 2/5\n",
            "469/469 [==============================] - 5s 11ms/step - loss: 0.1039 - accuracy: 0.9686\n",
            "Epoch 3/5\n",
            "469/469 [==============================] - 5s 11ms/step - loss: 0.0685 - accuracy: 0.9800\n",
            "Epoch 4/5\n",
            "469/469 [==============================] - 5s 11ms/step - loss: 0.0498 - accuracy: 0.9849\n",
            "Epoch 5/5\n",
            "469/469 [==============================] - 5s 11ms/step - loss: 0.0372 - accuracy: 0.9889\n",
            "Elapsed time (CPU): 26.6657\n"
          ]
        }
      ]
    },
    {
      "cell_type": "markdown",
      "source": [
        "Let's now enable GPU"
      ],
      "metadata": {
        "id": "DoYyGKmdhZqF"
      }
    },
    {
      "cell_type": "code",
      "source": [
        "!nvidia-smi #check if we use GPU"
      ],
      "metadata": {
        "colab": {
          "base_uri": "https://localhost:8080/"
        },
        "id": "a0K1fQsnhcXQ",
        "outputId": "dab4ed07-1f2d-409e-9635-0387399c4c8c"
      },
      "execution_count": null,
      "outputs": [
        {
          "output_type": "stream",
          "name": "stdout",
          "text": [
            "Tue Sep 27 10:37:37 2022       \n",
            "+-----------------------------------------------------------------------------+\n",
            "| NVIDIA-SMI 460.32.03    Driver Version: 460.32.03    CUDA Version: 11.2     |\n",
            "|-------------------------------+----------------------+----------------------+\n",
            "| GPU  Name        Persistence-M| Bus-Id        Disp.A | Volatile Uncorr. ECC |\n",
            "| Fan  Temp  Perf  Pwr:Usage/Cap|         Memory-Usage | GPU-Util  Compute M. |\n",
            "|                               |                      |               MIG M. |\n",
            "|===============================+======================+======================|\n",
            "|   0  Tesla T4            Off  | 00000000:00:04.0 Off |                    0 |\n",
            "| N/A   32C    P8     9W /  70W |      0MiB / 15109MiB |      0%      Default |\n",
            "|                               |                      |                  N/A |\n",
            "+-------------------------------+----------------------+----------------------+\n",
            "                                                                               \n",
            "+-----------------------------------------------------------------------------+\n",
            "| Processes:                                                                  |\n",
            "|  GPU   GI   CI        PID   Type   Process name                  GPU Memory |\n",
            "|        ID   ID                                                   Usage      |\n",
            "|=============================================================================|\n",
            "|  No running processes found                                                 |\n",
            "+-----------------------------------------------------------------------------+\n"
          ]
        }
      ]
    },
    {
      "cell_type": "code",
      "source": [
        "from keras import models\n",
        "from keras import layers\n",
        "from tensorflow.keras.utils import to_categorical\n",
        "import time\n",
        "\n",
        "network = models.Sequential()\n",
        "network.add(layers.Dense(512, activation='relu', input_shape=(28*28,)))\n",
        "network.add(layers.Dense(10, activation='softmax'))\n",
        "network.compile(optimizer='rmsprop',\n",
        "                loss='categorical_crossentropy',\n",
        "                metrics=['accuracy'])\n",
        "train_images = train_images.reshape((60000, 28*28))\n",
        "train_images = train_images.astype('float32') / 255\n",
        "\n",
        "test_images = test_images.reshape((10000, 28*28))\n",
        "test_images = test_images.astype('float32') / 255\n",
        "\n",
        "train_labels = to_categorical(train_labels)\n",
        "test_labels = to_categorical(test_labels)\n",
        "\n",
        "start = time.time()\n",
        "network.fit(train_images, train_labels, epochs=5, batch_size=128)\n",
        "elapsed = time.time() - start\n",
        "\n",
        "print('Elapsed time (GPU): %.4f' % elapsed)"
      ],
      "metadata": {
        "colab": {
          "base_uri": "https://localhost:8080/"
        },
        "id": "LceXZLQlhjj5",
        "outputId": "fd05baec-67b9-469f-8727-83588eb1c1b3"
      },
      "execution_count": null,
      "outputs": [
        {
          "output_type": "stream",
          "name": "stdout",
          "text": [
            "Epoch 1/5\n"
          ]
        },
        {
          "output_type": "stream",
          "name": "stderr",
          "text": [
            "WARNING:tensorflow:AutoGraph could not transform <function Model.make_train_function.<locals>.train_function at 0x7f87f02a1290> and will run it as-is.\n",
            "Please report this to the TensorFlow team. When filing the bug, set the verbosity to 10 (on Linux, `export AUTOGRAPH_VERBOSITY=10`) and attach the full output.\n",
            "Cause: closure mismatch, requested ('self', 'step_function'), but source function had ()\n",
            "To silence this warning, decorate the function with @tf.autograph.experimental.do_not_convert\n"
          ]
        },
        {
          "output_type": "stream",
          "name": "stdout",
          "text": [
            "WARNING: AutoGraph could not transform <function Model.make_train_function.<locals>.train_function at 0x7f87f02a1290> and will run it as-is.\n",
            "Please report this to the TensorFlow team. When filing the bug, set the verbosity to 10 (on Linux, `export AUTOGRAPH_VERBOSITY=10`) and attach the full output.\n",
            "Cause: closure mismatch, requested ('self', 'step_function'), but source function had ()\n",
            "To silence this warning, decorate the function with @tf.autograph.experimental.do_not_convert\n",
            "469/469 [==============================] - 5s 3ms/step - loss: 0.2535 - accuracy: 0.9259\n",
            "Epoch 2/5\n",
            "469/469 [==============================] - 1s 3ms/step - loss: 0.1028 - accuracy: 0.9688\n",
            "Epoch 3/5\n",
            "469/469 [==============================] - 1s 3ms/step - loss: 0.0677 - accuracy: 0.9797\n",
            "Epoch 4/5\n",
            "469/469 [==============================] - 1s 3ms/step - loss: 0.0488 - accuracy: 0.9854\n",
            "Epoch 5/5\n",
            "469/469 [==============================] - 1s 3ms/step - loss: 0.0370 - accuracy: 0.9886\n",
            "Elapsed time (GPU): 11.0071\n"
          ]
        }
      ]
    },
    {
      "cell_type": "markdown",
      "source": [
        "```\n",
        "Epoch 1/5\n",
        "469/469 [==============================] - 6s 12ms/step - loss: 0.2571 - accuracy: 0.9277\n",
        "Epoch 2/5\n",
        "469/469 [==============================] - 5s 11ms/step - loss: 0.1039 - accuracy: 0.9686\n",
        "Epoch 3/5\n",
        "469/469 [==============================] - 5s 11ms/step - loss: 0.0685 - accuracy: 0.9800\n",
        "Epoch 4/5\n",
        "469/469 [==============================] - 5s 11ms/step - loss: 0.0498 - accuracy: 0.9849\n",
        "Epoch 5/5\n",
        "469/469 [==============================] - 5s 11ms/step - loss: 0.0372 - accuracy: 0.9889\n",
        "Elapsed time (CPU): 26.6657\n",
        "```\n",
        "\n",
        "```\n",
        "Epoch 1/5\n",
        "469/469 [==============================] - 5s 3ms/step - loss: 0.2535 - accuracy: 0.9259\n",
        "Epoch 2/5\n",
        "469/469 [==============================] - 1s 3ms/step - loss: 0.1028 - accuracy: 0.9688\n",
        "Epoch 3/5\n",
        "469/469 [==============================] - 1s 3ms/step - loss: 0.0677 - accuracy: 0.9797\n",
        "Epoch 4/5\n",
        "469/469 [==============================] - 1s 3ms/step - loss: 0.0488 - accuracy: 0.9854\n",
        "Epoch 5/5\n",
        "469/469 [==============================] - 1s 3ms/step - loss: 0.0370 - accuracy: 0.9886\n",
        "Elapsed time (GPU): 11.0071\n",
        "```\n",
        "As we can see using GPU increased the speed of the training our model. Without GPU it took 26s to train model. With GPU it took only 11s."
      ],
      "metadata": {
        "id": "Yx6BgAoYieBm"
      }
    }
  ]
}