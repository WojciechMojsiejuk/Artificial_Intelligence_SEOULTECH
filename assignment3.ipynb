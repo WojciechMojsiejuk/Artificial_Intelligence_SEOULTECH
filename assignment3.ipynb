{
  "cells": [
    {
      "cell_type": "markdown",
      "metadata": {
        "id": "view-in-github",
        "colab_type": "text"
      },
      "source": [
        "<a href=\"https://colab.research.google.com/github/WojciechMojsiejuk/Artificial_Intelligence_SEOULTECH/blob/main/assignment3.ipynb\" target=\"_parent\"><img src=\"https://colab.research.google.com/assets/colab-badge.svg\" alt=\"Open In Colab\"/></a>"
      ]
    },
    {
      "cell_type": "markdown",
      "metadata": {
        "id": "6vFXgflvZ6Ga"
      },
      "source": [
        "## Assignment #3"
      ]
    },
    {
      "cell_type": "markdown",
      "metadata": {
        "id": "UevAU0CYVhiu"
      },
      "source": [
        "* Release date: 2022/10/25 Tue\n",
        "* Due date: **2022/11/01 Tue 23:59** (will not accept late submission)\n",
        "* Submittion format: notebook file which can be executed in Colab environment\n",
        "* Weighting: 10% (total 100 pts)"
      ]
    },
    {
      "cell_type": "markdown",
      "metadata": {
        "id": "FH-S9c5dYgqd"
      },
      "source": [
        "* We will train CNN using `dogs_vs_cats_subset.zip` distributed in the class."
      ]
    },
    {
      "cell_type": "markdown",
      "metadata": {
        "id": "KxrhNNhWbfHD"
      },
      "source": [
        "> ### (5pts) Prepare the dataset\n",
        "\n",
        "* Place the unzipped files in some directory on your Colab instance.\n",
        "* Count the number of JPEG files in `train`, `validation`, and `test` folders."
      ]
    },
    {
      "cell_type": "code",
      "execution_count": 1,
      "metadata": {
        "colab": {
          "base_uri": "https://localhost:8080/"
        },
        "id": "NmLRa5GNeSOi",
        "outputId": "d35ba247-687f-42e1-f8c5-eaf0f606a747"
      },
      "outputs": [
        {
          "output_type": "stream",
          "name": "stdout",
          "text": [
            "Mounted at /content/gdrive\n"
          ]
        }
      ],
      "source": [
        "# mount Google Drive\n",
        "from google.colab import drive\n",
        "drive.mount('/content/gdrive')"
      ]
    },
    {
      "cell_type": "code",
      "execution_count": 2,
      "metadata": {
        "id": "kC-eGbk0yw_R"
      },
      "outputs": [],
      "source": [
        "# unzip\n",
        "import zipfile, os\n",
        "\n",
        "path_to_zip = '/content/gdrive/MyDrive/Artificial_Intelligence/dogs_vs_cats_subset.zip'\n",
        "dst_path = '/content/gdrive/MyDrive/Artificial_Intelligence/dataset'\n",
        "\n",
        "if not os.path.exists(dst_path):\n",
        "  os.makedirs(dst_path)\n",
        "  with zipfile.ZipFile(path_to_zip, 'r') as file:\n",
        "    file.extractall(dst_path)"
      ]
    },
    {
      "cell_type": "code",
      "execution_count": 3,
      "metadata": {
        "colab": {
          "base_uri": "https://localhost:8080/"
        },
        "id": "Jjy4EGMpqUP1",
        "outputId": "bd90dec3-4a54-4d4b-ded0-011fc26490e1"
      },
      "outputs": [
        {
          "output_type": "stream",
          "name": "stdout",
          "text": [
            "Found 2000 images belonging to 2 classes.\n",
            "Found 1000 images belonging to 2 classes.\n",
            "Found 1000 images belonging to 2 classes.\n"
          ]
        }
      ],
      "source": [
        "from tensorflow.keras.preprocessing.image import ImageDataGenerator\n",
        "\n",
        "train_path = os.path.join(dst_path, 'subset/train')\n",
        "test_path = os.path.join(dst_path, 'subset/test')\n",
        "validation_path = os.path.join(dst_path, 'subset/validation')\n",
        "\n",
        "train_datagen = ImageDataGenerator(rescale=1./255)\n",
        "test_datagen = ImageDataGenerator(rescale=1./255)\n",
        "\n",
        "train_generator = train_datagen.flow_from_directory(train_path,\n",
        "                                                    target_size=(128,128),\n",
        "                                                    batch_size=20,\n",
        "                                                    class_mode='categorical')\n",
        "\n",
        "validation_generator = test_datagen.flow_from_directory(validation_path,\n",
        "                                                        target_size=(128,128),\n",
        "                                                        batch_size=20,\n",
        "                                                        class_mode='categorical')\n",
        "\n",
        "test_generator = test_datagen.flow_from_directory(test_path,\n",
        "                                                        target_size=(128,128),\n",
        "                                                        batch_size=20,\n",
        "                                                        class_mode='categorical')\n"
      ]
    },
    {
      "cell_type": "markdown",
      "metadata": {
        "id": "XZL6dRVPfh1J"
      },
      "source": [
        "There is 2000 images in training folder, and 1000 images in test and validation folders each."
      ]
    },
    {
      "cell_type": "code",
      "execution_count": null,
      "metadata": {
        "colab": {
          "base_uri": "https://localhost:8080/",
          "height": 650
        },
        "id": "y5ezvcltgivC",
        "outputId": "1687ab97-72b5-4b37-aa4d-c7842c78a1f5"
      },
      "outputs": [
        {
          "name": "stdout",
          "output_type": "stream",
          "text": [
            "data batch shape: (20, 128, 128, 3)\n",
            "labels batch shape: (20, 2)\n",
            "[[1. 0.]\n",
            " [0. 1.]\n",
            " [1. 0.]\n",
            " [1. 0.]\n",
            " [0. 1.]\n",
            " [0. 1.]\n",
            " [1. 0.]\n",
            " [0. 1.]\n",
            " [0. 1.]\n",
            " [1. 0.]\n",
            " [1. 0.]\n",
            " [1. 0.]\n",
            " [1. 0.]\n",
            " [0. 1.]\n",
            " [0. 1.]\n",
            " [0. 1.]\n",
            " [1. 0.]\n",
            " [1. 0.]\n",
            " [0. 1.]\n",
            " [1. 0.]]\n"
          ]
        },
        {
          "data": {
            "image/png": "[encoded data removed]",
            "text/plain": [
              "<Figure size 432x288 with 1 Axes>"
            ]
          },
          "metadata": {},
          "output_type": "display_data"
        }
      ],
      "source": [
        "import matplotlib.pyplot as plt\n",
        "from tensorflow.keras.preprocessing import image\n",
        "\n",
        "for data_batch, labels_batch in train_generator:\n",
        "  print('data batch shape:', data_batch.shape)\n",
        "  print('labels batch shape:', labels_batch.shape)\n",
        "  plt.imshow(image.array_to_img(data_batch[0]))\n",
        "  print(labels_batch)\n",
        "  break\n",
        "  "
      ]
    },
    {
      "cell_type": "markdown",
      "metadata": {
        "id": "yWfgUJiPeicE"
      },
      "source": [
        "> ### (20pts) Build a baseline model\n",
        "\n",
        "* **(10pts)** Use VGG16 model as a baseline model.\n",
        "  * You can use `tensorflow.keras.applications` module to get the VGG16 architecture.\n",
        "  * You should customize the VGG16 model to deal with a given task, i.e., two class classification.\n",
        "  * We will use 128*128 resized images as inputs to the model and randomly initialized model parameters.\n",
        "  * Place **two output nodes** at the output layer.\n",
        "  * Others not specified should be chosen yourself."
      ]
    },
    {
      "cell_type": "code",
      "execution_count": null,
      "metadata": {
        "id": "q9iKnDBqKKGC"
      },
      "outputs": [],
      "source": [
        "from tensorflow.keras.applications import VGG16\n",
        "\n",
        "conv_base = VGG16(weights=None, # randomly initialized parameters\n",
        "                  include_top=False,\n",
        "                  input_shape=(128, 128, 3))"
      ]
    },
    {
      "cell_type": "code",
      "execution_count": null,
      "metadata": {
        "id": "gHWlMXsVhwv7"
      },
      "outputs": [],
      "source": [
        "from tensorflow.keras import models\n",
        "from tensorflow.keras import layers\n",
        "\n",
        "model = models.Sequential()\n",
        "model.add(conv_base)\n",
        "model.add(layers.Flatten()) # we must flatten the convolution layers to 1D array for Dense layers\n",
        "model.add(layers.Dense(256, activation='relu'))\n",
        "model.add(layers.Dense(2, activation='softmax')) # because we need to have two nodes as an output we must use softmax activation function, rather then sigmoid used for 1 "
      ]
    },
    {
      "cell_type": "markdown",
      "metadata": {
        "id": "w0sIu0iibFXN"
      },
      "source": [
        "* **(10pts)** How many trainable parameters in the first convolutional layer? Explain how to compute the number of parameters."
      ]
    },
    {
      "cell_type": "code",
      "execution_count": null,
      "metadata": {
        "colab": {
          "base_uri": "https://localhost:8080/"
        },
        "id": "RxPyxHPeibRu",
        "outputId": "21dd8c3a-6f98-4650-f370-89f05aecafd6"
      },
      "outputs": [
        {
          "name": "stdout",
          "output_type": "stream",
          "text": [
            "Model: \"vgg16\"\n",
            "_________________________________________________________________\n",
            " Layer (type)                Output Shape              Param #   \n",
            "=================================================================\n",
            " input_1 (InputLayer)        [(None, 128, 128, 3)]     0         \n",
            "                                                                 \n",
            " block1_conv1 (Conv2D)       (None, 128, 128, 64)      1792      \n",
            "                                                                 \n",
            " block1_conv2 (Conv2D)       (None, 128, 128, 64)      36928     \n",
            "                                                                 \n",
            " block1_pool (MaxPooling2D)  (None, 64, 64, 64)        0         \n",
            "                                                                 \n",
            " block2_conv1 (Conv2D)       (None, 64, 64, 128)       73856     \n",
            "                                                                 \n",
            " block2_conv2 (Conv2D)       (None, 64, 64, 128)       147584    \n",
            "                                                                 \n",
            " block2_pool (MaxPooling2D)  (None, 32, 32, 128)       0         \n",
            "                                                                 \n",
            " block3_conv1 (Conv2D)       (None, 32, 32, 256)       295168    \n",
            "                                                                 \n",
            " block3_conv2 (Conv2D)       (None, 32, 32, 256)       590080    \n",
            "                                                                 \n",
            " block3_conv3 (Conv2D)       (None, 32, 32, 256)       590080    \n",
            "                                                                 \n",
            " block3_pool (MaxPooling2D)  (None, 16, 16, 256)       0         \n",
            "                                                                 \n",
            " block4_conv1 (Conv2D)       (None, 16, 16, 512)       1180160   \n",
            "                                                                 \n",
            " block4_conv2 (Conv2D)       (None, 16, 16, 512)       2359808   \n",
            "                                                                 \n",
            " block4_conv3 (Conv2D)       (None, 16, 16, 512)       2359808   \n",
            "                                                                 \n",
            " block4_pool (MaxPooling2D)  (None, 8, 8, 512)         0         \n",
            "                                                                 \n",
            " block5_conv1 (Conv2D)       (None, 8, 8, 512)         2359808   \n",
            "                                                                 \n",
            " block5_conv2 (Conv2D)       (None, 8, 8, 512)         2359808   \n",
            "                                                                 \n",
            " block5_conv3 (Conv2D)       (None, 8, 8, 512)         2359808   \n",
            "                                                                 \n",
            " block5_pool (MaxPooling2D)  (None, 4, 4, 512)         0         \n",
            "                                                                 \n",
            "=================================================================\n",
            "Total params: 14,714,688\n",
            "Trainable params: 14,714,688\n",
            "Non-trainable params: 0\n",
            "_________________________________________________________________\n"
          ]
        }
      ],
      "source": [
        "conv_base.summary()"
      ]
    },
    {
      "cell_type": "markdown",
      "metadata": {
        "id": "GxL3OMeQt04w"
      },
      "source": [
        "We can see that for the first convolution layer we have 1792 parameters. Let's get this layer and check its configuration"
      ]
    },
    {
      "cell_type": "code",
      "execution_count": null,
      "metadata": {
        "id": "M1XL7Ocbk5JS"
      },
      "outputs": [],
      "source": [
        "first_layer = conv_base.get_layer('block1_conv1')"
      ]
    },
    {
      "cell_type": "code",
      "execution_count": null,
      "metadata": {
        "colab": {
          "base_uri": "https://localhost:8080/"
        },
        "id": "B3Owyr0flzMe",
        "outputId": "53e804f0-f211-48b5-8ab1-fe693eafaee8"
      },
      "outputs": [
        {
          "data": {
            "text/plain": [
              "(3, 3)"
            ]
          },
          "execution_count": 32,
          "metadata": {},
          "output_type": "execute_result"
        }
      ],
      "source": [
        "first_layer.kernel_size"
      ]
    },
    {
      "cell_type": "code",
      "execution_count": null,
      "metadata": {
        "colab": {
          "base_uri": "https://localhost:8080/"
        },
        "id": "fxMpiJ2urQJg",
        "outputId": "f88a06db-5fbf-49d3-a700-f0d2215248f2"
      },
      "outputs": [
        {
          "data": {
            "text/plain": [
              "TensorShape([None, 128, 128, 3])"
            ]
          },
          "execution_count": 29,
          "metadata": {},
          "output_type": "execute_result"
        }
      ],
      "source": [
        "first_layer.input.shape"
      ]
    },
    {
      "cell_type": "code",
      "execution_count": null,
      "metadata": {
        "colab": {
          "base_uri": "https://localhost:8080/"
        },
        "id": "vTvoYEmArUkI",
        "outputId": "a25cbbe8-2317-4312-ea36-05531eb1b1a4"
      },
      "outputs": [
        {
          "data": {
            "text/plain": [
              "TensorShape([None, 128, 128, 64])"
            ]
          },
          "execution_count": 26,
          "metadata": {},
          "output_type": "execute_result"
        }
      ],
      "source": [
        "first_layer.output.shape"
      ]
    },
    {
      "cell_type": "markdown",
      "metadata": {
        "id": "9xbXKciDuBSo"
      },
      "source": [
        "To compute numbers of parameters we must know the size of the kernel, size of the filter in the previous element of the model (input of this layer). After multiplying those three values we must add 1 for bias, and then finally multiply everything for the filter of this layer (which goest to the layer output)\n",
        "[Source](https://towardsdatascience.com/understanding-and-calculating-the-number-of-parameters-in-convolution-neural-networks-cnns-fc88790d530d)"
      ]
    },
    {
      "cell_type": "code",
      "execution_count": null,
      "metadata": {
        "colab": {
          "base_uri": "https://localhost:8080/"
        },
        "id": "AzIbti5os6Qa",
        "outputId": "ad7668ef-f6e0-49a6-bfd8-919801b40300"
      },
      "outputs": [
        {
          "data": {
            "text/plain": [
              "1792"
            ]
          },
          "execution_count": 34,
          "metadata": {},
          "output_type": "execute_result"
        }
      ],
      "source": [
        "((first_layer.kernel_size[0] * first_layer.kernel_size[1] * first_layer.input.shape[3]) + 1 ) * first_layer.output.shape[3]"
      ]
    },
    {
      "cell_type": "markdown",
      "metadata": {
        "id": "s3nfAI6wudnM"
      },
      "source": [
        "As we can see, we obtained the same number"
      ]
    },
    {
      "cell_type": "markdown",
      "metadata": {
        "id": "j0TUwiHLgI_-"
      },
      "source": [
        "> ### (10pts) Train a baseline model \n",
        "\n",
        "  * Currently, the data is stored as JPEG files. So we need the following steps:\n",
        "    * Read the files.\n",
        "    * Decode the JPEG content to RGB grids of pixels.\n",
        "    * Convert these into floating-point tensors.\n",
        "    * Scaling the data to be in a range of [0,1].\n",
        "    \n",
        "  * Set `batch_size` to 20.\n",
        "  * Train the network for 50 epochs. It may consume some time. Note that you should set `steps_per_epoch` and `validation_steps` properly so that a particular data is processed once during a single epoch.\n",
        "  * **Use Adam optimizer to train the model**. You may need to find hyperparameters (e.g., learning rate) to make the optimizer work.\n",
        "  * Here, you don't need to apply any regularization methods. "
      ]
    },
    {
      "cell_type": "code",
      "execution_count": null,
      "metadata": {
        "id": "g1mIkdGs1wx8"
      },
      "outputs": [],
      "source": [
        "from tensorflow.keras.optimizers import Adam\n",
        "\n",
        "model.compile(optimizer=Adam(learning_rate=2e-5,), \n",
        "              loss='categorical_crossentropy', \n",
        "              metrics=['acc'])"
      ]
    },
    {
      "cell_type": "code",
      "execution_count": null,
      "metadata": {
        "colab": {
          "base_uri": "https://localhost:8080/"
        },
        "id": "0L7QFstoSCi5",
        "outputId": "6afecb7b-54ac-472c-c8bd-db01aee32037"
      },
      "outputs": [
        {
          "name": "stderr",
          "output_type": "stream",
          "text": [
            "/usr/local/lib/python3.7/dist-packages/ipykernel_launcher.py:5: UserWarning: `Model.fit_generator` is deprecated and will be removed in a future version. Please use `Model.fit`, which supports generators.\n",
            "  \"\"\"\n"
          ]
        },
        {
          "name": "stdout",
          "output_type": "stream",
          "text": [
            "Epoch 1/50\n",
            "100/100 [==============================] - 440s 4s/step - loss: 0.6932 - acc: 0.5025 - val_loss: 0.6926 - val_acc: 0.5000\n",
            "Epoch 2/50\n",
            "100/100 [==============================] - 16s 155ms/step - loss: 0.6919 - acc: 0.5235 - val_loss: 0.6900 - val_acc: 0.5090\n",
            "Epoch 3/50\n",
            "100/100 [==============================] - 16s 155ms/step - loss: 0.6711 - acc: 0.5970 - val_loss: 0.6554 - val_acc: 0.6030\n",
            "Epoch 4/50\n",
            "100/100 [==============================] - 16s 163ms/step - loss: 0.6303 - acc: 0.6525 - val_loss: 0.6262 - val_acc: 0.6430\n",
            "Epoch 5/50\n",
            "100/100 [==============================] - 15s 153ms/step - loss: 0.6020 - acc: 0.6920 - val_loss: 0.6310 - val_acc: 0.6330\n",
            "Epoch 6/50\n",
            "100/100 [==============================] - 15s 154ms/step - loss: 0.5682 - acc: 0.7170 - val_loss: 0.6036 - val_acc: 0.6910\n",
            "Epoch 7/50\n",
            "100/100 [==============================] - 15s 153ms/step - loss: 0.5577 - acc: 0.7260 - val_loss: 0.6335 - val_acc: 0.6690\n",
            "Epoch 8/50\n",
            "100/100 [==============================] - 15s 154ms/step - loss: 0.5231 - acc: 0.7430 - val_loss: 0.5657 - val_acc: 0.7020\n",
            "Epoch 9/50\n",
            "100/100 [==============================] - 15s 154ms/step - loss: 0.5148 - acc: 0.7410 - val_loss: 0.5740 - val_acc: 0.7030\n",
            "Epoch 10/50\n",
            "100/100 [==============================] - 16s 155ms/step - loss: 0.4945 - acc: 0.7550 - val_loss: 0.5672 - val_acc: 0.7010\n",
            "Epoch 11/50\n",
            "100/100 [==============================] - 15s 155ms/step - loss: 0.4803 - acc: 0.7660 - val_loss: 0.5521 - val_acc: 0.7130\n",
            "Epoch 12/50\n",
            "100/100 [==============================] - 15s 155ms/step - loss: 0.4660 - acc: 0.7780 - val_loss: 0.5428 - val_acc: 0.7290\n",
            "Epoch 13/50\n",
            "100/100 [==============================] - 16s 155ms/step - loss: 0.4473 - acc: 0.7835 - val_loss: 0.5286 - val_acc: 0.7370\n",
            "Epoch 14/50\n",
            "100/100 [==============================] - 16s 155ms/step - loss: 0.4200 - acc: 0.8020 - val_loss: 0.5430 - val_acc: 0.7280\n",
            "Epoch 15/50\n",
            "100/100 [==============================] - 16s 155ms/step - loss: 0.4104 - acc: 0.7995 - val_loss: 0.5516 - val_acc: 0.7270\n",
            "Epoch 16/50\n",
            "100/100 [==============================] - 16s 155ms/step - loss: 0.3995 - acc: 0.8110 - val_loss: 0.5568 - val_acc: 0.7180\n",
            "Epoch 17/50\n",
            "100/100 [==============================] - 16s 155ms/step - loss: 0.3721 - acc: 0.8250 - val_loss: 0.5541 - val_acc: 0.7550\n",
            "Epoch 18/50\n",
            "100/100 [==============================] - 17s 165ms/step - loss: 0.3651 - acc: 0.8370 - val_loss: 0.5333 - val_acc: 0.7490\n",
            "Epoch 19/50\n",
            "100/100 [==============================] - 15s 154ms/step - loss: 0.3329 - acc: 0.8535 - val_loss: 0.5143 - val_acc: 0.7570\n",
            "Epoch 20/50\n",
            "100/100 [==============================] - 15s 155ms/step - loss: 0.3044 - acc: 0.8665 - val_loss: 0.6462 - val_acc: 0.7410\n",
            "Epoch 21/50\n",
            "100/100 [==============================] - 15s 153ms/step - loss: 0.2832 - acc: 0.8730 - val_loss: 0.5619 - val_acc: 0.7560\n",
            "Epoch 22/50\n",
            "100/100 [==============================] - 16s 155ms/step - loss: 0.2772 - acc: 0.8780 - val_loss: 0.5345 - val_acc: 0.7600\n",
            "Epoch 23/50\n",
            "100/100 [==============================] - 15s 153ms/step - loss: 0.2454 - acc: 0.8935 - val_loss: 0.5730 - val_acc: 0.7500\n",
            "Epoch 24/50\n",
            "100/100 [==============================] - 15s 153ms/step - loss: 0.2221 - acc: 0.9065 - val_loss: 0.5530 - val_acc: 0.7770\n",
            "Epoch 25/50\n",
            "100/100 [==============================] - 15s 154ms/step - loss: 0.1824 - acc: 0.9270 - val_loss: 0.7267 - val_acc: 0.7440\n",
            "Epoch 26/50\n",
            "100/100 [==============================] - 15s 155ms/step - loss: 0.1637 - acc: 0.9265 - val_loss: 0.7205 - val_acc: 0.7580\n",
            "Epoch 27/50\n",
            "100/100 [==============================] - 15s 154ms/step - loss: 0.1624 - acc: 0.9295 - val_loss: 0.7479 - val_acc: 0.7520\n",
            "Epoch 28/50\n",
            "100/100 [==============================] - 16s 156ms/step - loss: 0.1249 - acc: 0.9530 - val_loss: 1.0123 - val_acc: 0.7380\n",
            "Epoch 29/50\n",
            "100/100 [==============================] - 16s 156ms/step - loss: 0.1385 - acc: 0.9490 - val_loss: 0.8216 - val_acc: 0.7690\n",
            "Epoch 30/50\n",
            "100/100 [==============================] - 16s 156ms/step - loss: 0.0836 - acc: 0.9715 - val_loss: 0.8434 - val_acc: 0.7550\n",
            "Epoch 31/50\n",
            "100/100 [==============================] - 15s 154ms/step - loss: 0.0769 - acc: 0.9660 - val_loss: 0.9697 - val_acc: 0.7590\n",
            "Epoch 32/50\n",
            "100/100 [==============================] - 16s 159ms/step - loss: 0.0846 - acc: 0.9695 - val_loss: 0.9102 - val_acc: 0.7640\n",
            "Epoch 33/50\n",
            "100/100 [==============================] - 17s 168ms/step - loss: 0.0679 - acc: 0.9805 - val_loss: 0.9332 - val_acc: 0.7760\n",
            "Epoch 34/50\n",
            "100/100 [==============================] - 15s 153ms/step - loss: 0.0860 - acc: 0.9670 - val_loss: 0.9309 - val_acc: 0.7450\n",
            "Epoch 35/50\n",
            "100/100 [==============================] - 15s 154ms/step - loss: 0.0196 - acc: 0.9960 - val_loss: 1.1231 - val_acc: 0.7810\n",
            "Epoch 36/50\n",
            "100/100 [==============================] - 16s 156ms/step - loss: 0.0391 - acc: 0.9850 - val_loss: 1.0651 - val_acc: 0.7440\n",
            "Epoch 37/50\n",
            "100/100 [==============================] - 16s 158ms/step - loss: 0.0863 - acc: 0.9685 - val_loss: 1.0558 - val_acc: 0.7690\n",
            "Epoch 38/50\n",
            "100/100 [==============================] - 15s 153ms/step - loss: 0.0074 - acc: 1.0000 - val_loss: 1.2156 - val_acc: 0.7760\n",
            "Epoch 39/50\n",
            "100/100 [==============================] - 16s 163ms/step - loss: 0.0019 - acc: 1.0000 - val_loss: 1.3876 - val_acc: 0.7680\n",
            "Epoch 40/50\n",
            "100/100 [==============================] - 15s 152ms/step - loss: 8.7597e-04 - acc: 1.0000 - val_loss: 1.4396 - val_acc: 0.7700\n",
            "Epoch 41/50\n",
            "100/100 [==============================] - 15s 154ms/step - loss: 4.5126e-04 - acc: 1.0000 - val_loss: 1.5043 - val_acc: 0.7680\n",
            "Epoch 42/50\n",
            "100/100 [==============================] - 15s 152ms/step - loss: 3.4941e-04 - acc: 1.0000 - val_loss: 1.5561 - val_acc: 0.7650\n",
            "Epoch 43/50\n",
            "100/100 [==============================] - 15s 153ms/step - loss: 2.7754e-04 - acc: 1.0000 - val_loss: 1.5959 - val_acc: 0.7680\n",
            "Epoch 44/50\n",
            "100/100 [==============================] - 15s 152ms/step - loss: 2.2831e-04 - acc: 1.0000 - val_loss: 1.6294 - val_acc: 0.7660\n",
            "Epoch 45/50\n",
            "100/100 [==============================] - 15s 153ms/step - loss: 1.9254e-04 - acc: 1.0000 - val_loss: 1.6662 - val_acc: 0.7660\n",
            "Epoch 46/50\n",
            "100/100 [==============================] - 16s 157ms/step - loss: 1.6285e-04 - acc: 1.0000 - val_loss: 1.6967 - val_acc: 0.7660\n",
            "Epoch 47/50\n",
            "100/100 [==============================] - 16s 160ms/step - loss: 1.4318e-04 - acc: 1.0000 - val_loss: 1.7268 - val_acc: 0.7650\n",
            "Epoch 48/50\n",
            "100/100 [==============================] - 15s 152ms/step - loss: 1.2322e-04 - acc: 1.0000 - val_loss: 1.7524 - val_acc: 0.7660\n",
            "Epoch 49/50\n",
            "100/100 [==============================] - 15s 153ms/step - loss: 1.0894e-04 - acc: 1.0000 - val_loss: 1.7794 - val_acc: 0.7670\n",
            "Epoch 50/50\n",
            "100/100 [==============================] - 15s 153ms/step - loss: 9.6510e-05 - acc: 1.0000 - val_loss: 1.8042 - val_acc: 0.7670\n"
          ]
        }
      ],
      "source": [
        "history = model.fit_generator(train_generator,\n",
        "                              steps_per_epoch=100,\n",
        "                              epochs=50,\n",
        "                              validation_data=validation_generator,\n",
        "                              validation_steps=50)"
      ]
    },
    {
      "cell_type": "code",
      "execution_count": null,
      "metadata": {
        "id": "7tS3yt9jz6JU"
      },
      "outputs": [],
      "source": [
        "model.save('/content/gdrive/MyDrive/Artificial_Intelligence/dogs_and_cats_1.h5')"
      ]
    },
    {
      "cell_type": "markdown",
      "metadata": {
        "id": "r9HNF524XkCy"
      },
      "source": [
        "> ### (5pts) Plot some curves\n",
        "* Plot accuracies and losses on training and validation datasets, respectively."
      ]
    },
    {
      "cell_type": "code",
      "execution_count": null,
      "metadata": {
        "colab": {
          "base_uri": "https://localhost:8080/",
          "height": 545
        },
        "id": "bhDWsnWuY5w-",
        "outputId": "734ce5eb-3f7a-4315-b518-63b7281b7cdb"
      },
      "outputs": [
        {
          "data": {
            "image/png": "[encoded data removed]",
            "text/plain": [
              "<Figure size 432x288 with 1 Axes>"
            ]
          },
          "metadata": {},
          "output_type": "display_data"
        },
        {
          "data": {
            "image/png": "[encoded data removed]",
            "text/plain": [
              "<Figure size 432x288 with 1 Axes>"
            ]
          },
          "metadata": {},
          "output_type": "display_data"
        }
      ],
      "source": [
        "import matplotlib.pyplot as plt\n",
        "\n",
        "acc = history.history['acc'] \n",
        "val_acc = history.history['val_acc'] \n",
        "loss = history.history['loss'] \n",
        "val_loss = history.history['val_loss']\n",
        "\n",
        "epochs = range(1, len(acc) + 1)\n",
        "\n",
        "plt.plot(epochs, acc, 'bo', label='Training acc') \n",
        "plt.plot(epochs, val_acc, 'b', label='Validation acc') \n",
        "plt.title('Training and validation accuracy') \n",
        "plt.legend()\n",
        "\n",
        "plt.figure()\n",
        "\n",
        "plt.plot(epochs, loss, 'bo', label='Training loss') \n",
        "plt.plot(epochs, val_loss, 'b', label='Validation loss') \n",
        "plt.title('Training and validation loss') \n",
        "plt.legend()\n",
        "\n",
        "plt.show()"
      ]
    },
    {
      "cell_type": "markdown",
      "metadata": {
        "id": "grS8nv2u6ImO"
      },
      "source": [
        "> ### (50pts) Improve the baseline model\n",
        "* Try at least three strategies to improve the validation performance of the baseline model.\n",
        "* You should examine that the performance is indeed improved as you employ your strategies. In other words, you should show that (accuracy with strategy 1 <= accuracy with strategy 1 and 2 <= accuracy with strategy 1, 2, and 3)."
      ]
    },
    {
      "cell_type": "markdown",
      "metadata": {
        "id": "i9kMzIjGBDTD"
      },
      "source": [
        ">> ### (15pts) Trial 1: Data augmentetion to improve generalization"
      ]
    },
    {
      "cell_type": "code",
      "execution_count": null,
      "metadata": {
        "id": "Z2D37Y11fAFA"
      },
      "outputs": [],
      "source": [
        "train_datagen = ImageDataGenerator(rescale=1./255,\n",
        "                                   rotation_range=40,\n",
        "                                   width_shift_range=0.2,\n",
        "                                   height_shift_range=0.2,\n",
        "                                   shear_range=0.2,\n",
        "                                   zoom_range=0.2,\n",
        "                                   horizontal_flip=True,\n",
        "                                   fill_mode='nearest')\n"
      ]
    },
    {
      "cell_type": "code",
      "execution_count": null,
      "metadata": {
        "colab": {
          "base_uri": "https://localhost:8080/"
        },
        "id": "EtQAC-f-XnGE",
        "outputId": "b254649c-6933-4587-a07e-dd5244dc9dec"
      },
      "outputs": [
        {
          "name": "stdout",
          "output_type": "stream",
          "text": [
            "Found 2000 images belonging to 2 classes.\n"
          ]
        }
      ],
      "source": [
        "train_generator = train_datagen.flow_from_directory(train_path,\n",
        "                                                    target_size=(128,128),\n",
        "                                                    batch_size=20,\n",
        "                                                    class_mode='categorical')"
      ]
    },
    {
      "cell_type": "code",
      "execution_count": null,
      "metadata": {
        "colab": {
          "base_uri": "https://localhost:8080/"
        },
        "id": "cTU9OBnzXgb5",
        "outputId": "530c5c2d-3055-4118-95b1-3ecfd8b1adf9"
      },
      "outputs": [
        {
          "name": "stderr",
          "output_type": "stream",
          "text": [
            "/usr/local/lib/python3.7/dist-packages/ipykernel_launcher.py:5: UserWarning: `Model.fit_generator` is deprecated and will be removed in a future version. Please use `Model.fit`, which supports generators.\n",
            "  \"\"\"\n"
          ]
        },
        {
          "name": "stdout",
          "output_type": "stream",
          "text": [
            "Epoch 1/50\n",
            "100/100 [==============================] - 23s 227ms/step - loss: 0.7456 - acc: 0.5905 - val_loss: 0.6402 - val_acc: 0.6400\n",
            "Epoch 2/50\n",
            "100/100 [==============================] - 22s 217ms/step - loss: 0.6210 - acc: 0.6460 - val_loss: 0.5673 - val_acc: 0.7060\n",
            "Epoch 3/50\n",
            "100/100 [==============================] - 22s 215ms/step - loss: 0.5762 - acc: 0.6985 - val_loss: 0.5504 - val_acc: 0.7150\n",
            "Epoch 4/50\n",
            "100/100 [==============================] - 22s 215ms/step - loss: 0.5471 - acc: 0.7210 - val_loss: 0.5594 - val_acc: 0.7180\n",
            "Epoch 5/50\n",
            "100/100 [==============================] - 21s 214ms/step - loss: 0.5358 - acc: 0.7255 - val_loss: 0.5141 - val_acc: 0.7410\n",
            "Epoch 6/50\n",
            "100/100 [==============================] - 21s 212ms/step - loss: 0.5104 - acc: 0.7470 - val_loss: 0.5115 - val_acc: 0.7460\n",
            "Epoch 7/50\n",
            "100/100 [==============================] - 21s 213ms/step - loss: 0.4856 - acc: 0.7625 - val_loss: 0.5012 - val_acc: 0.7640\n",
            "Epoch 8/50\n",
            "100/100 [==============================] - 22s 223ms/step - loss: 0.4828 - acc: 0.7735 - val_loss: 0.4450 - val_acc: 0.7740\n",
            "Epoch 9/50\n",
            "100/100 [==============================] - 21s 209ms/step - loss: 0.4716 - acc: 0.7765 - val_loss: 0.4498 - val_acc: 0.7950\n",
            "Epoch 10/50\n",
            "100/100 [==============================] - 21s 212ms/step - loss: 0.4586 - acc: 0.7740 - val_loss: 0.4586 - val_acc: 0.7740\n",
            "Epoch 11/50\n",
            "100/100 [==============================] - 21s 210ms/step - loss: 0.4663 - acc: 0.7720 - val_loss: 0.4708 - val_acc: 0.7710\n",
            "Epoch 12/50\n",
            "100/100 [==============================] - 21s 209ms/step - loss: 0.4617 - acc: 0.7735 - val_loss: 0.4721 - val_acc: 0.7700\n",
            "Epoch 13/50\n",
            "100/100 [==============================] - 21s 210ms/step - loss: 0.4743 - acc: 0.7690 - val_loss: 0.5051 - val_acc: 0.7500\n",
            "Epoch 14/50\n",
            "100/100 [==============================] - 21s 209ms/step - loss: 0.4311 - acc: 0.7960 - val_loss: 0.4903 - val_acc: 0.7600\n",
            "Epoch 15/50\n",
            "100/100 [==============================] - 21s 212ms/step - loss: 0.4342 - acc: 0.7955 - val_loss: 0.4130 - val_acc: 0.7950\n",
            "Epoch 16/50\n",
            "100/100 [==============================] - 21s 210ms/step - loss: 0.4256 - acc: 0.8080 - val_loss: 0.4500 - val_acc: 0.7860\n",
            "Epoch 17/50\n",
            "100/100 [==============================] - 21s 209ms/step - loss: 0.4224 - acc: 0.8070 - val_loss: 0.4369 - val_acc: 0.7880\n",
            "Epoch 18/50\n",
            "100/100 [==============================] - 21s 212ms/step - loss: 0.4106 - acc: 0.8190 - val_loss: 0.4150 - val_acc: 0.8110\n",
            "Epoch 19/50\n",
            "100/100 [==============================] - 22s 218ms/step - loss: 0.4045 - acc: 0.8115 - val_loss: 0.4296 - val_acc: 0.7910\n",
            "Epoch 20/50\n",
            "100/100 [==============================] - 21s 209ms/step - loss: 0.3976 - acc: 0.8215 - val_loss: 0.4616 - val_acc: 0.7830\n",
            "Epoch 21/50\n",
            "100/100 [==============================] - 21s 209ms/step - loss: 0.3971 - acc: 0.8235 - val_loss: 0.4280 - val_acc: 0.8060\n",
            "Epoch 22/50\n",
            "100/100 [==============================] - 21s 212ms/step - loss: 0.3811 - acc: 0.8260 - val_loss: 0.4472 - val_acc: 0.7990\n",
            "Epoch 23/50\n",
            "100/100 [==============================] - 21s 214ms/step - loss: 0.4148 - acc: 0.8025 - val_loss: 0.4501 - val_acc: 0.8000\n",
            "Epoch 24/50\n",
            "100/100 [==============================] - 21s 211ms/step - loss: 0.3819 - acc: 0.8295 - val_loss: 0.4778 - val_acc: 0.7850\n",
            "Epoch 25/50\n",
            "100/100 [==============================] - 21s 213ms/step - loss: 0.4013 - acc: 0.8090 - val_loss: 0.4328 - val_acc: 0.7900\n",
            "Epoch 26/50\n",
            "100/100 [==============================] - 21s 212ms/step - loss: 0.3611 - acc: 0.8360 - val_loss: 0.4249 - val_acc: 0.8030\n",
            "Epoch 27/50\n",
            "100/100 [==============================] - 21s 212ms/step - loss: 0.3846 - acc: 0.8280 - val_loss: 0.4244 - val_acc: 0.8130\n",
            "Epoch 28/50\n",
            "100/100 [==============================] - 21s 213ms/step - loss: 0.3740 - acc: 0.8315 - val_loss: 0.3962 - val_acc: 0.8210\n",
            "Epoch 29/50\n",
            "100/100 [==============================] - 23s 227ms/step - loss: 0.3567 - acc: 0.8495 - val_loss: 0.4137 - val_acc: 0.8150\n",
            "Epoch 30/50\n",
            "100/100 [==============================] - 21s 212ms/step - loss: 0.3713 - acc: 0.8345 - val_loss: 0.4036 - val_acc: 0.8230\n",
            "Epoch 31/50\n",
            "100/100 [==============================] - 21s 211ms/step - loss: 0.3543 - acc: 0.8400 - val_loss: 0.3899 - val_acc: 0.8270\n",
            "Epoch 32/50\n",
            "100/100 [==============================] - 21s 211ms/step - loss: 0.3514 - acc: 0.8410 - val_loss: 0.4255 - val_acc: 0.7920\n",
            "Epoch 33/50\n",
            "100/100 [==============================] - 21s 211ms/step - loss: 0.3549 - acc: 0.8380 - val_loss: 0.3927 - val_acc: 0.8190\n",
            "Epoch 34/50\n",
            "100/100 [==============================] - 21s 213ms/step - loss: 0.3409 - acc: 0.8525 - val_loss: 0.4290 - val_acc: 0.8040\n",
            "Epoch 35/50\n",
            "100/100 [==============================] - 21s 211ms/step - loss: 0.3388 - acc: 0.8530 - val_loss: 0.3863 - val_acc: 0.8250\n",
            "Epoch 36/50\n",
            "100/100 [==============================] - 21s 211ms/step - loss: 0.3298 - acc: 0.8555 - val_loss: 0.4197 - val_acc: 0.8140\n",
            "Epoch 37/50\n",
            "100/100 [==============================] - 21s 211ms/step - loss: 0.3307 - acc: 0.8525 - val_loss: 0.3994 - val_acc: 0.8170\n",
            "Epoch 38/50\n",
            "100/100 [==============================] - 21s 210ms/step - loss: 0.3305 - acc: 0.8560 - val_loss: 0.4391 - val_acc: 0.8020\n",
            "Epoch 39/50\n",
            "100/100 [==============================] - 22s 218ms/step - loss: 0.3087 - acc: 0.8600 - val_loss: 0.3782 - val_acc: 0.8210\n",
            "Epoch 40/50\n",
            "100/100 [==============================] - 21s 211ms/step - loss: 0.3374 - acc: 0.8495 - val_loss: 0.3722 - val_acc: 0.8260\n",
            "Epoch 41/50\n",
            "100/100 [==============================] - 21s 211ms/step - loss: 0.3131 - acc: 0.8585 - val_loss: 0.4035 - val_acc: 0.8250\n",
            "Epoch 42/50\n",
            "100/100 [==============================] - 21s 212ms/step - loss: 0.2902 - acc: 0.8755 - val_loss: 0.4271 - val_acc: 0.8140\n",
            "Epoch 43/50\n",
            "100/100 [==============================] - 21s 213ms/step - loss: 0.3104 - acc: 0.8700 - val_loss: 0.4581 - val_acc: 0.8070\n",
            "Epoch 44/50\n",
            "100/100 [==============================] - 21s 210ms/step - loss: 0.3121 - acc: 0.8600 - val_loss: 0.4356 - val_acc: 0.8050\n",
            "Epoch 45/50\n",
            "100/100 [==============================] - 21s 211ms/step - loss: 0.2907 - acc: 0.8705 - val_loss: 0.4106 - val_acc: 0.8130\n",
            "Epoch 46/50\n",
            "100/100 [==============================] - 21s 210ms/step - loss: 0.3023 - acc: 0.8680 - val_loss: 0.3671 - val_acc: 0.8330\n",
            "Epoch 47/50\n",
            "100/100 [==============================] - 21s 212ms/step - loss: 0.2986 - acc: 0.8620 - val_loss: 0.4038 - val_acc: 0.8320\n",
            "Epoch 48/50\n",
            "100/100 [==============================] - 22s 222ms/step - loss: 0.3025 - acc: 0.8735 - val_loss: 0.4631 - val_acc: 0.7960\n",
            "Epoch 49/50\n",
            "100/100 [==============================] - 21s 214ms/step - loss: 0.2876 - acc: 0.8770 - val_loss: 0.3753 - val_acc: 0.8340\n",
            "Epoch 50/50\n",
            "100/100 [==============================] - 21s 209ms/step - loss: 0.2764 - acc: 0.8795 - val_loss: 0.4773 - val_acc: 0.7890\n"
          ]
        }
      ],
      "source": [
        "history = model.fit_generator(train_generator,\n",
        "                              steps_per_epoch=100,\n",
        "                              epochs=50,\n",
        "                              validation_data=validation_generator,\n",
        "                              validation_steps=50)"
      ]
    },
    {
      "cell_type": "code",
      "execution_count": null,
      "metadata": {
        "id": "IKYew47nccAp"
      },
      "outputs": [],
      "source": [
        "model.save('/content/gdrive/MyDrive/Artificial_Intelligence/dogs_and_cats_2.h5')"
      ]
    },
    {
      "cell_type": "code",
      "execution_count": null,
      "metadata": {
        "colab": {
          "base_uri": "https://localhost:8080/",
          "height": 545
        },
        "id": "5GTWnlordbU7",
        "outputId": "6bd29b88-ddb6-4d78-e112-c50b1d812d44"
      },
      "outputs": [
        {
          "data": {
            "image/png": "[encoded data removed]",
            "text/plain": [
              "<Figure size 432x288 with 1 Axes>"
            ]
          },
          "metadata": {},
          "output_type": "display_data"
        },
        {
          "data": {
            "image/png": "[encoded data removed]",
            "text/plain": [
              "<Figure size 432x288 with 1 Axes>"
            ]
          },
          "metadata": {},
          "output_type": "display_data"
        }
      ],
      "source": [
        "import matplotlib.pyplot as plt\n",
        "\n",
        "acc = history.history['acc'] \n",
        "val_acc = history.history['val_acc'] \n",
        "loss = history.history['loss'] \n",
        "val_loss = history.history['val_loss']\n",
        "\n",
        "epochs = range(1, len(acc) + 1)\n",
        "\n",
        "plt.plot(epochs, acc, 'bo', label='Training acc') \n",
        "plt.plot(epochs, val_acc, 'b', label='Validation acc') \n",
        "plt.title('Training and validation accuracy') \n",
        "plt.legend()\n",
        "\n",
        "plt.figure()\n",
        "\n",
        "plt.plot(epochs, loss, 'bo', label='Training loss') \n",
        "plt.plot(epochs, val_loss, 'b', label='Validation loss') \n",
        "plt.title('Training and validation loss') \n",
        "plt.legend()\n",
        "\n",
        "plt.show()"
      ]
    },
    {
      "cell_type": "markdown",
      "metadata": {
        "id": "JwqHqUMTCo-6"
      },
      "source": [
        ">> ### (15pts) Trial 2: trial1 + ImageNet"
      ]
    },
    {
      "cell_type": "markdown",
      "metadata": {
        "id": "1C-m2iWSGkAi"
      },
      "source": [
        "We need to tune-in data augmentation, because our approach was too strong comparable to the real data we got higher accuracy on validation than on training"
      ]
    },
    {
      "cell_type": "code",
      "execution_count": null,
      "metadata": {
        "id": "QbXH2CkSGbbE"
      },
      "outputs": [],
      "source": [
        "train_datagen = ImageDataGenerator(rescale=1./255,\n",
        "                                   rotation_range=20,\n",
        "                                   width_shift_range=0.05,\n",
        "                                   height_shift_range=0.05,\n",
        "                                   shear_range=0.05,\n",
        "                                   zoom_range=0.05,\n",
        "                                   horizontal_flip=True,\n",
        "                                   fill_mode='nearest')"
      ]
    },
    {
      "cell_type": "code",
      "execution_count": null,
      "metadata": {
        "colab": {
          "base_uri": "https://localhost:8080/"
        },
        "id": "bwN67edaG-MH",
        "outputId": "4e531d18-0f21-4ede-ded8-81029df2e435"
      },
      "outputs": [
        {
          "name": "stdout",
          "output_type": "stream",
          "text": [
            "Found 2000 images belonging to 2 classes.\n"
          ]
        }
      ],
      "source": [
        "train_generator = train_datagen.flow_from_directory(train_path,\n",
        "                                                    target_size=(128,128),\n",
        "                                                    batch_size=20,\n",
        "                                                    class_mode='categorical')"
      ]
    },
    {
      "cell_type": "code",
      "execution_count": null,
      "metadata": {
        "colab": {
          "base_uri": "https://localhost:8080/"
        },
        "id": "prCPWkY3Dm5x",
        "outputId": "5b6796ac-c4d8-4ce9-af19-553a4fc81b12"
      },
      "outputs": [
        {
          "name": "stdout",
          "output_type": "stream",
          "text": [
            "Downloading data from https://storage.googleapis.com/tensorflow/keras-applications/vgg16/vgg16_weights_tf_dim_ordering_tf_kernels_notop.h5\n",
            "58889256/58889256 [==============================] - 1s 0us/step\n"
          ]
        }
      ],
      "source": [
        "from tensorflow.keras.applications import VGG16\n",
        "from tensorflow.keras.callbacks import ModelCheckpoint\n",
        "\n",
        "# save best epoch before it starts to overfit\n",
        "modelckpt = ModelCheckpoint(\n",
        "    monitor = 'val_acc',\n",
        "    save_best_only=True,\n",
        "    filepath='/content/gdrive/MyDrive/Artificial_Intelligence/dogs_and_cats_3.h5')\n",
        "\n",
        "\n",
        "conv_base = VGG16(weights='imagenet', # ImageNet pretrained weights\n",
        "                  include_top=False,\n",
        "                  input_shape=(128, 128, 3))"
      ]
    },
    {
      "cell_type": "code",
      "execution_count": null,
      "metadata": {
        "id": "UcbL7Q7lhBrq"
      },
      "outputs": [],
      "source": [
        "from tensorflow.keras import models\n",
        "from tensorflow.keras import layers\n",
        "\n",
        "model = models.Sequential()\n",
        "model.add(conv_base)\n",
        "model.add(layers.Flatten()) # we must flatten the convolution layers to 1D array for Dense layers\n",
        "model.add(layers.Dense(256, activation='relu'))\n",
        "model.add(layers.Dense(2, activation='softmax')) # because we need to have two nodes as an output we must use softmax activation function, rather then sigmoid used for 1 "
      ]
    },
    {
      "cell_type": "code",
      "execution_count": null,
      "metadata": {
        "id": "E5XCuvm3G_lu"
      },
      "outputs": [],
      "source": [
        "from tensorflow.keras.optimizers import Adam\n",
        "\n",
        "model.compile(optimizer=Adam(learning_rate=2e-5,), \n",
        "              loss='categorical_crossentropy', \n",
        "              metrics=['acc'])"
      ]
    },
    {
      "cell_type": "code",
      "execution_count": null,
      "metadata": {
        "id": "txCe7Hfnhkil"
      },
      "outputs": [],
      "source": [
        "conv_base.trainable = False"
      ]
    },
    {
      "cell_type": "code",
      "execution_count": null,
      "metadata": {
        "colab": {
          "base_uri": "https://localhost:8080/"
        },
        "id": "_LXTS_ochoCG",
        "outputId": "f5ec2e7d-6748-4f0f-8aa6-df34ce7488f0"
      },
      "outputs": [
        {
          "name": "stdout",
          "output_type": "stream",
          "text": [
            "Model: \"sequential_1\"\n",
            "_________________________________________________________________\n",
            " Layer (type)                Output Shape              Param #   \n",
            "=================================================================\n",
            " vgg16 (Functional)          (None, 4, 4, 512)         14714688  \n",
            "                                                                 \n",
            " flatten (Flatten)           (None, 8192)              0         \n",
            "                                                                 \n",
            " dense (Dense)               (None, 256)               2097408   \n",
            "                                                                 \n",
            " dense_1 (Dense)             (None, 2)                 514       \n",
            "                                                                 \n",
            "=================================================================\n",
            "Total params: 16,812,610\n",
            "Trainable params: 2,097,922\n",
            "Non-trainable params: 14,714,688\n",
            "_________________________________________________________________\n"
          ]
        }
      ],
      "source": [
        "model.summary()"
      ]
    },
    {
      "cell_type": "code",
      "execution_count": null,
      "metadata": {
        "colab": {
          "background_save": true,
          "base_uri": "https://localhost:8080/"
        },
        "id": "cK771j4KigQ7",
        "outputId": "ddc31ebc-6bdb-44fc-d064-221df3917099"
      },
      "outputs": [
        {
          "name": "stderr",
          "output_type": "stream",
          "text": [
            "/usr/local/lib/python3.7/dist-packages/ipykernel_launcher.py:6: UserWarning: `Model.fit_generator` is deprecated and will be removed in a future version. Please use `Model.fit`, which supports generators.\n",
            "  \n"
          ]
        },
        {
          "name": "stdout",
          "output_type": "stream",
          "text": [
            "Epoch 1/50\n",
            "100/100 [==============================] - 1034s 10s/step - loss: 0.4408 - acc: 0.7835 - val_loss: 0.2693 - val_acc: 0.8980\n",
            "Epoch 2/50\n",
            "100/100 [==============================] - 963s 10s/step - loss: 0.2083 - acc: 0.9110 - val_loss: 0.1558 - val_acc: 0.9460\n",
            "Epoch 3/50\n",
            "100/100 [==============================] - 958s 10s/step - loss: 0.1402 - acc: 0.9440 - val_loss: 0.1348 - val_acc: 0.9460\n",
            "Epoch 4/50\n",
            "100/100 [==============================] - 958s 10s/step - loss: 0.0982 - acc: 0.9625 - val_loss: 0.1364 - val_acc: 0.9490\n",
            "Epoch 5/50\n",
            "100/100 [==============================] - 964s 10s/step - loss: 0.0674 - acc: 0.9760 - val_loss: 0.1313 - val_acc: 0.9550\n",
            "Epoch 6/50\n",
            "100/100 [==============================] - 962s 10s/step - loss: 0.0467 - acc: 0.9830 - val_loss: 0.1304 - val_acc: 0.9520\n",
            "Epoch 7/50\n",
            "100/100 [==============================] - 987s 10s/step - loss: 0.0563 - acc: 0.9785 - val_loss: 0.1995 - val_acc: 0.9350\n",
            "Epoch 8/50\n",
            " 31/100 [========>.....................] - ETA: 9:50 - loss: 0.0210 - acc: 0.9984"
          ]
        }
      ],
      "source": [
        "history = model.fit_generator(train_generator,\n",
        "                              steps_per_epoch=100,\n",
        "                              epochs=50,\n",
        "                              validation_data=validation_generator,\n",
        "                              validation_steps=50,\n",
        "                              callbacks=[modelckpt])"
      ]
    },
    {
      "cell_type": "markdown",
      "metadata": {
        "id": "3b-8QejdEzAP"
      },
      "source": [
        ">> ### (20pts) Trial 3: trial1 + trial2 + something"
      ]
    },
    {
      "cell_type": "code",
      "execution_count": null,
      "metadata": {
        "id": "CNtALS0hE9FW"
      },
      "outputs": [],
      "source": []
    },
    {
      "cell_type": "markdown",
      "metadata": {
        "id": "RwRxndYYDxMg"
      },
      "source": [
        "> ### (10pts) Compare the final performance of your models on the test dataset\n",
        "  * Examine the final performance of the baseline, trial1, trial2, and trial3 models.\n",
        "  * Verify the performance is improved as you apply some regularization methods. If not, discuss why.\n"
      ]
    },
    {
      "cell_type": "code",
      "execution_count": 5,
      "metadata": {
        "id": "LP_lfPd0CzBa",
        "colab": {
          "base_uri": "https://localhost:8080/"
        },
        "outputId": "e3c606d1-8f1e-4b35-ec21-c8ead01e892d"
      },
      "outputs": [
        {
          "output_type": "stream",
          "name": "stdout",
          "text": [
            "50/50 [==============================] - 224s 4s/step - loss: 0.1671 - acc: 0.9560\n"
          ]
        },
        {
          "output_type": "execute_result",
          "data": {
            "text/plain": [
              "[0.16709838807582855, 0.9559999704360962]"
            ]
          },
          "metadata": {},
          "execution_count": 5
        }
      ],
      "source": [
        "from tensorflow.keras import models\n",
        "\n",
        "trial_2 = models.load_model('/content/gdrive/MyDrive/Artificial_Intelligence/dogs_and_cats_3.h5')\n",
        "trial_2.evaluate(test_generator)"
      ]
    }
  ],
  "metadata": {
    "accelerator": "GPU",
    "colab": {
      "collapsed_sections": [],
      "provenance": [],
      "include_colab_link": true
    },
    "kernelspec": {
      "display_name": "Python 3",
      "language": "python",
      "name": "python3"
    },
    "language_info": {
      "codemirror_mode": {
        "name": "ipython",
        "version": 3
      },
      "file_extension": ".py",
      "mimetype": "text/x-python",
      "name": "python",
      "nbconvert_exporter": "python",
      "pygments_lexer": "ipython3",
      "version": "3.7.4"
    }
  },
  "nbformat": 4,
  "nbformat_minor": 0
}